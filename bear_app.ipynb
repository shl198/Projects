{
  "nbformat": 4,
  "nbformat_minor": 0,
  "metadata": {
    "colab": {
      "name": "bear_app.ipynb",
      "provenance": [],
      "mount_file_id": "1Rc26uE3vTnEsV1R3yyoboCOE8mHOATOj",
      "authorship_tag": "ABX9TyOj1xIp7OCfF9fg23JSY7HP",
      "include_colab_link": true
    },
    "kernelspec": {
      "name": "python3",
      "display_name": "Python 3"
    },
    "language_info": {
      "name": "python"
    },
    "widgets": {
      "application/vnd.jupyter.widget-state+json": {
        "7cbe9e8c46874324acf48279db80dfbc": {
          "model_module": "@jupyter-widgets/controls",
          "model_name": "VBoxModel",
          "model_module_version": "1.5.0",
          "state": {
            "_view_name": "VBoxView",
            "_dom_classes": [],
            "_model_name": "VBoxModel",
            "_view_module": "@jupyter-widgets/controls",
            "_model_module_version": "1.5.0",
            "_view_count": null,
            "_view_module_version": "1.5.0",
            "box_style": "",
            "layout": "IPY_MODEL_69f4be6721884bbda8bc6fff0598e6bc",
            "_model_module": "@jupyter-widgets/controls",
            "children": [
              "IPY_MODEL_d81551c1623a4aea86c99878a907a4d1",
              "IPY_MODEL_b9497658700b49009592a6e016fa991e",
              "IPY_MODEL_0d52d9cafabf43ed99eda05eed02ff4c",
              "IPY_MODEL_75e479162f084330876004aff1118e0a",
              "IPY_MODEL_b59c383146d742cba35bf48bfffadd94"
            ]
          }
        },
        "69f4be6721884bbda8bc6fff0598e6bc": {
          "model_module": "@jupyter-widgets/base",
          "model_name": "LayoutModel",
          "model_module_version": "1.2.0",
          "state": {
            "_view_name": "LayoutView",
            "grid_template_rows": null,
            "right": null,
            "justify_content": null,
            "_view_module": "@jupyter-widgets/base",
            "overflow": null,
            "_model_module_version": "1.2.0",
            "_view_count": null,
            "flex_flow": null,
            "width": null,
            "min_width": null,
            "border": null,
            "align_items": null,
            "bottom": null,
            "_model_module": "@jupyter-widgets/base",
            "top": null,
            "grid_column": null,
            "overflow_y": null,
            "overflow_x": null,
            "grid_auto_flow": null,
            "grid_area": null,
            "grid_template_columns": null,
            "flex": null,
            "_model_name": "LayoutModel",
            "justify_items": null,
            "grid_row": null,
            "max_height": null,
            "align_content": null,
            "visibility": null,
            "align_self": null,
            "height": null,
            "min_height": null,
            "padding": null,
            "grid_auto_rows": null,
            "grid_gap": null,
            "max_width": null,
            "order": null,
            "_view_module_version": "1.2.0",
            "grid_template_areas": null,
            "object_position": null,
            "object_fit": null,
            "grid_auto_columns": null,
            "margin": null,
            "display": null,
            "left": null
          }
        },
        "d81551c1623a4aea86c99878a907a4d1": {
          "model_module": "@jupyter-widgets/controls",
          "model_name": "LabelModel",
          "model_module_version": "1.5.0",
          "state": {
            "_view_name": "LabelView",
            "style": "IPY_MODEL_d2d98ffcdd9940408fce3bf3a85edbb4",
            "_dom_classes": [],
            "description": "",
            "_model_name": "LabelModel",
            "placeholder": "​",
            "_view_module": "@jupyter-widgets/controls",
            "_model_module_version": "1.5.0",
            "value": "Select your bear!",
            "_view_count": null,
            "_view_module_version": "1.5.0",
            "description_tooltip": null,
            "_model_module": "@jupyter-widgets/controls",
            "layout": "IPY_MODEL_21b43d68fb844eccbcf7437dbe0ca27d"
          }
        },
        "b9497658700b49009592a6e016fa991e": {
          "model_module": "@jupyter-widgets/controls",
          "model_name": "FileUploadModel",
          "model_module_version": "1.5.0",
          "state": {
            "_view_name": "FileUploadView",
            "_counter": 1,
            "style": "IPY_MODEL_7941ac90c859428a8f080c95061e2a73",
            "_dom_classes": [],
            "description": "Upload",
            "multiple": false,
            "_model_name": "FileUploadModel",
            "data": [
              null
            ],
            "button_style": "",
            "_view_module": "@jupyter-widgets/controls",
            "_model_module_version": "1.5.0",
            "accept": "",
            "_view_count": null,
            "disabled": false,
            "_view_module_version": "1.5.0",
            "error": "",
            "description_tooltip": null,
            "metadata": [
              {
                "name": "07CAT-STRIPES-mediumSquareAt3X-v2.jpg",
                "type": "image/jpeg",
                "size": 634575,
                "lastModified": 1640488336403
              }
            ],
            "_model_module": "@jupyter-widgets/controls",
            "layout": "IPY_MODEL_047d6312b99844c99318b02b3f7d84f6",
            "icon": "upload"
          }
        },
        "0d52d9cafabf43ed99eda05eed02ff4c": {
          "model_module": "@jupyter-widgets/controls",
          "model_name": "ButtonModel",
          "model_module_version": "1.5.0",
          "state": {
            "_view_name": "ButtonView",
            "style": "IPY_MODEL_12a634f21249413192b397d069a58cb2",
            "_dom_classes": [],
            "description": "Classify",
            "_model_name": "ButtonModel",
            "button_style": "",
            "_view_module": "@jupyter-widgets/controls",
            "_model_module_version": "1.5.0",
            "tooltip": "",
            "_view_count": null,
            "disabled": false,
            "_view_module_version": "1.5.0",
            "layout": "IPY_MODEL_d4b660b74d914bd083e515b627c694a4",
            "_model_module": "@jupyter-widgets/controls",
            "icon": ""
          }
        },
        "75e479162f084330876004aff1118e0a": {
          "model_module": "@jupyter-widgets/output",
          "model_name": "OutputModel",
          "model_module_version": "1.0.0",
          "state": {
            "_view_name": "OutputView",
            "msg_id": "",
            "_dom_classes": [],
            "_model_name": "OutputModel",
            "outputs": [
              {
                "output_type": "display_data",
                "data": {
                  "image/png": "iVBORw0KGgoAAAANSUhEUgAAAIAAAACACAIAAABMXPacAAAKMWlDQ1BJQ0MgUHJvZmlsZQAAeJydlndUU9kWh8+9N71QkhCKlNBraFICSA29SJEuKjEJEErAkAAiNkRUcERRkaYIMijggKNDkbEiioUBUbHrBBlE1HFwFBuWSWStGd+8ee/Nm98f935rn73P3Wfvfda6AJD8gwXCTFgJgAyhWBTh58WIjYtnYAcBDPAAA2wA4HCzs0IW+EYCmQJ82IxsmRP4F726DiD5+yrTP4zBAP+flLlZIjEAUJiM5/L42VwZF8k4PVecJbdPyZi2NE3OMErOIlmCMlaTc/IsW3z2mWUPOfMyhDwZy3PO4mXw5Nwn4405Er6MkWAZF+cI+LkyviZjg3RJhkDGb+SxGXxONgAoktwu5nNTZGwtY5IoMoIt43kA4EjJX/DSL1jMzxPLD8XOzFouEiSniBkmXFOGjZMTi+HPz03ni8XMMA43jSPiMdiZGVkc4XIAZs/8WRR5bRmyIjvYODk4MG0tbb4o1H9d/JuS93aWXoR/7hlEH/jD9ld+mQ0AsKZltdn6h21pFQBd6wFQu/2HzWAvAIqyvnUOfXEeunxeUsTiLGcrq9zcXEsBn2spL+jv+p8Of0NffM9Svt3v5WF485M4knQxQ143bmZ6pkTEyM7icPkM5p+H+B8H/nUeFhH8JL6IL5RFRMumTCBMlrVbyBOIBZlChkD4n5r4D8P+pNm5lona+BHQllgCpSEaQH4eACgqESAJe2Qr0O99C8ZHA/nNi9GZmJ37z4L+fVe4TP7IFiR/jmNHRDK4ElHO7Jr8WgI0IABFQAPqQBvoAxPABLbAEbgAD+ADAkEoiARxYDHgghSQAUQgFxSAtaAYlIKtYCeoBnWgETSDNnAYdIFj4DQ4By6By2AE3AFSMA6egCnwCsxAEISFyBAVUod0IEPIHLKFWJAb5AMFQxFQHJQIJUNCSAIVQOugUqgcqobqoWboW+godBq6AA1Dt6BRaBL6FXoHIzAJpsFasBFsBbNgTzgIjoQXwcnwMjgfLoK3wJVwA3wQ7oRPw5fgEVgKP4GnEYAQETqiizARFsJGQpF4JAkRIauQEqQCaUDakB6kH7mKSJGnyFsUBkVFMVBMlAvKHxWF4qKWoVahNqOqUQdQnag+1FXUKGoK9RFNRmuizdHO6AB0LDoZnYsuRlegm9Ad6LPoEfQ4+hUGg6FjjDGOGH9MHCYVswKzGbMb0445hRnGjGGmsVisOtYc64oNxXKwYmwxtgp7EHsSewU7jn2DI+J0cLY4X1w8TogrxFXgWnAncFdwE7gZvBLeEO+MD8Xz8MvxZfhGfA9+CD+OnyEoE4wJroRIQiphLaGS0EY4S7hLeEEkEvWITsRwooC4hlhJPEQ8TxwlviVRSGYkNimBJCFtIe0nnSLdIr0gk8lGZA9yPFlM3kJuJp8h3ye/UaAqWCoEKPAUVivUKHQqXFF4pohXNFT0VFysmK9YoXhEcUjxqRJeyUiJrcRRWqVUo3RU6YbStDJV2UY5VDlDebNyi/IF5UcULMWI4kPhUYoo+yhnKGNUhKpPZVO51HXURupZ6jgNQzOmBdBSaaW0b2iDtCkVioqdSrRKnkqNynEVKR2hG9ED6On0Mvph+nX6O1UtVU9Vvuom1TbVK6qv1eaoeajx1UrU2tVG1N6pM9R91NPUt6l3qd/TQGmYaYRr5Grs0Tir8XQObY7LHO6ckjmH59zWhDXNNCM0V2ju0xzQnNbS1vLTytKq0jqj9VSbru2hnaq9Q/uE9qQOVcdNR6CzQ+ekzmOGCsOTkc6oZPQxpnQ1df11Jbr1uoO6M3rGelF6hXrtevf0Cfos/ST9Hfq9+lMGOgYhBgUGrQa3DfGGLMMUw12G/YavjYyNYow2GHUZPTJWMw4wzjduNb5rQjZxN1lm0mByzRRjyjJNM91tetkMNrM3SzGrMRsyh80dzAXmu82HLdAWThZCiwaLG0wS05OZw2xljlrSLYMtCy27LJ9ZGVjFW22z6rf6aG1vnW7daH3HhmITaFNo02Pzq62ZLde2xvbaXPJc37mr53bPfW5nbse322N3055qH2K/wb7X/oODo4PIoc1h0tHAMdGx1vEGi8YKY21mnXdCO3k5rXY65vTW2cFZ7HzY+RcXpkuaS4vLo3nG8/jzGueNueq5clzrXaVuDLdEt71uUnddd457g/sDD30PnkeTx4SnqWeq50HPZ17WXiKvDq/XbGf2SvYpb8Tbz7vEe9CH4hPlU+1z31fPN9m31XfKz95vhd8pf7R/kP82/xsBWgHcgOaAqUDHwJWBfUGkoAVB1UEPgs2CRcE9IXBIYMj2kLvzDecL53eFgtCA0O2h98KMw5aFfR+OCQ8Lrwl/GGETURDRv4C6YMmClgWvIr0iyyLvRJlESaJ6oxWjE6Kbo1/HeMeUx0hjrWJXxl6K04gTxHXHY+Oj45vipxf6LNy5cDzBPqE44foi40V5iy4s1licvvj4EsUlnCVHEtGJMYktie85oZwGzvTSgKW1S6e4bO4u7hOeB28Hb5Lvyi/nTyS5JpUnPUp2Td6ePJninlKR8lTAFlQLnqf6p9alvk4LTduf9ik9Jr09A5eRmHFUSBGmCfsytTPzMoezzLOKs6TLnJftXDYlChI1ZUPZi7K7xTTZz9SAxESyXjKa45ZTk/MmNzr3SJ5ynjBvYLnZ8k3LJ/J9879egVrBXdFboFuwtmB0pefK+lXQqqWrelfrry5aPb7Gb82BtYS1aWt/KLQuLC98uS5mXU+RVtGaorH1futbixWKRcU3NrhsqNuI2ijYOLhp7qaqTR9LeCUXS61LK0rfb+ZuvviVzVeVX33akrRlsMyhbM9WzFbh1uvb3LcdKFcuzy8f2x6yvXMHY0fJjpc7l+y8UGFXUbeLsEuyS1oZXNldZVC1tep9dUr1SI1XTXutZu2m2te7ebuv7PHY01anVVda926vYO/Ner/6zgajhop9mH05+x42Rjf2f836urlJo6m06cN+4X7pgYgDfc2Ozc0tmi1lrXCrpHXyYMLBy994f9Pdxmyrb6e3lx4ChySHHn+b+O31w0GHe4+wjrR9Z/hdbQe1o6QT6lzeOdWV0iXtjusePhp4tLfHpafje8vv9x/TPVZzXOV42QnCiaITn07mn5w+lXXq6enk02O9S3rvnIk9c60vvG/wbNDZ8+d8z53p9+w/ed71/LELzheOXmRd7LrkcKlzwH6g4wf7HzoGHQY7hxyHui87Xe4Znjd84or7ldNXva+euxZw7dLI/JHh61HXb95IuCG9ybv56Fb6ree3c27P3FlzF3235J7SvYr7mvcbfjT9sV3qID0+6j068GDBgztj3LEnP2X/9H686CH5YcWEzkTzI9tHxyZ9Jy8/Xvh4/EnWk5mnxT8r/1z7zOTZd794/DIwFTs1/lz0/NOvm1+ov9j/0u5l73TY9P1XGa9mXpe8UX9z4C3rbf+7mHcTM7nvse8rP5h+6PkY9PHup4xPn34D94Tz+6TMXDkAAIYkSURBVHicjP1XjG1Lmh6IxR8Ry++1vU3vjj/X26q6ZdqxDZvdbJI94mhakIaSRhKgkQbzIr0KIw30ohdBgCAzA4gjqUVpyAa7WW2rTRWr6vp7j/fpM3du75ZfKyJ+Payd51bPdFVxnwQSONi5TUT87vu+/w/4f/2v/1NGKWOUMwqMMc45pRQoIaiUIoiIKn+gQoVKSQWIhBLGCGOUcwqUUgqUcaDcXt0rbt+2K3XDKZq2ZdpUY4SRv/VAQiQhGZIkwyDCMIx9PwiDIA7iMIrSKIqiMFjMZ4O+Px2m/kxGCyp8GQcAqGvcYBpfPjTOGOec64ah6YxSRKSMUcaAMaAMAJQSqVBJmiVZGiXJPIj9IJx7wSIMoyTJhESlABUSBALAOTdMzSnopqObRcOyKdMzKZMkCYIwjqM4SdIkzrI0lkJIBUC5pnNdp1SjFAgSiYBIABhnGmWUAgEQlGRUZSBCFDGqzHas9ur2+u7N5spGoVjhlHONUc4YUABKOV3+oUKklCpEVIgAioAiChVKpYAQUAQAAFAqpAQJIQiKMQqMo5JCCk1JVIiIhMDfXn8ChCBB/In/B0oJpcCoxrnUOJeaaVmlStXQtMS2U89QsS44y5KQA9U4Y4xxxhiljFJKgSglhCCUAQWFiEoBAUAEAKmUlFIpmR8eQgDyDw4Ayw8AhFDIfxMghCAiQQBCCAEASilSSimlBAgqiUpKpQAJQP5khbh8EQIISCF/gXxNCBJERQggIAJBIoSYTUdR6MdxmCVha22HM40zxihQAsAYpZQuPw9SRCRAkDBJiFRKEqIQlUKCSClBQgkolIQRgggEkeqgCMgsVVJIKRWiUkQRQv/bm5B/OAJw+S0ZUMoYY5xrOksTCoRxZlqmRkuCYeqDBEwAuZIaX+4ABUoIQSRSKQISCCGYrzsDikAJUCaUEkIImSkllFqeCEqBAgABwHwLAC+3BXPDRySY274kKl9iki93vp2IBBARCMH8yxMKFImiQBQCAcx3L391RKIUEkVQEUQihfTjyUkaxqEfR0HubxgAAFAAQACSby8AglKIiqBEIgiRSCQhihCCyJbfhTAEgoiUggIpUGaZzDIlFV6ef/LfWv2lUQAQyA8kpQD5Yaac0iw/WvnJBOCcGhYVsRAxyIRkCaWMUErI8s8xPxZSKUWQIAAAZUApAaBUKkQp5fLcSkWUQFSEYL7rAPl5JQCQW6ECQCRKCqkkFRkikZi/ulRSolJKKqWQEEWQEMIIQSD5EmD+ZQgQyI8/IgWghEmSKYL5ZiMSVASVigOve/o8TUIOAIRSzJ0+IZQQAkTmu4UolBJK5edZKiWkys2ZEWBIFAJXChEYQwpUikxliZIC87OGuSGSv8MNEVhaGSUstztKlyty6R4AMX8OoxQ4R8Y406TMMoVhKhGwaGoaRUSClFFESYRSCoASEATyyESBEIUoUAkppcy/jczPLqVIARQAogJKKWOEUaBUoZJKiCwFykGhQhRCKJEpJZSUEgVKmfsGoJQszxguF50QAJp/XwCKCiUQgqBxXde12M8EKoVKISGIWRyOeiecMEooRSAKc+9M8v1EopRCIaWUKvekQmIqpBSCoJKUMkolEESaWw+hKJM4C30lBL48/H+H7yFw+UMpoYwwBoxRAEourRCAUqBIUCkBUhAlCUHKKNV4llGi21feul0sF4u26Y3Hpy8O/NmcoCCEKKWWxgsUKFDGgCACSimFkEJKlJKgAKLY5UZfun4g+R9QDpQRRCESoIxIqRRmQgiRykxIJVBJJTOFCJQRqpAsv2luenC5fpkQQFm56JoGU2kYB4Fl6ZE3RgQkgCqP1SRLE04AFEpKLj0+EkSlUCFZZj9SKSlFJlSWiTTLpBQEkRFUDJFTRlFJqggSKpVUie9JKRDh71z6lw9KCCNEUcJYft4pUAoUCBC63AaCSok0BZGBlLlFS1SJEK9/441rr+yenRxZxbLhttev782G8/sffjLu9QgsPW/u0CljjBJClJQyk0pKiVIBIiXIgFCS+3wASnNHtgxIjAFliCrLYko1IVWaZVmaCLE0bimFUgoYUsZyt4K5QRMKQKSUnLM3Xtn74N3b22tVwGzQ6x4cXdx5eDZnnFIOhAIBVKBAEgKcEFBICCqCRBGpILcDJZf5JyoppZRCqEzKVCohFSilASJBIERQRalCZIwDpSxLUykyJAoJqr/bAJZGwAhRBChFoPDfeBYAIBIhRJIkTGWgBCapSOIkigzL6qzW73724WC4WN2SSRIZBjdt5+u//q2nXzy898kXlMLLR74BFBDzUEgUEKQq9xUv4z9IzF22ysMvA2CMIxIpUcpUKVS5CxJCSamUwjzCgaK5l0WCy3yCZCKtVyv/0e/9xhvXOmcnB6Pzx+cnR73zk9X11W9/8Nof/OuBymIluEAgCiQwRZArREAiYRkggCAhSJYJj7y0gNwUpEAiEUARglJJhUwhB9A4BUYJRQCppBACFX61nH9XBLg0ewQACpduL99vpSQqpVSWpWkcgcpQxDKcZcE0icKNq9cymVx0x9dee9dx3CT2Q3/+5N7dfrV889XbumN//L3vo1I0j+uaIpwiJYSAVDKP1HlafRmeKABSoJiHTrX8CDz/fKhkfvqkVDJDkSqRKiHyZwFFzH05IAEJyISUb97a/p/83q8WtOzDH/xVIhRjfNy/mI7Go8HFB7+60Wy2Im9iaDrwNJMSiVSKcokIBGie7yvFCEK+D6iUXP5DRJWnPwqlVCgloiKUUQqKUMWookAAkBJFlJIi/3ZA4KW7/2l2QHOfs8xHiFIykyJJ4jAIPG8ezMYqS1QaYLyQaYhKlRvN8bAnMhnOZ7Zp6YYZBX6xWH368Onh/vGv//ZvafyX//qP/oyIjGsaSJAASuVGnqc7SlHAy2SEEMA8EiAiIYgIKJRkkgqgVKnscv2FkplUmRSZkhlBkafdL39Qqkxmv/Ltt/+X/8O//+CLD//4Rx9RpVy3oJRyLKdYqp13z0a9k2rFPdd0wAx0g0gBQklCuFSKAiASVBJRAiEUERAVKqkUXpYZjJBUYZ4JKIUAhBKSe00CVBGQFBjJz7FElZvlch9+2mNpuJRQoGQZdVWWZUkUzWeT4cXpvH8KUhKVMZVoFIBQJbPZaCZTEfse6awwrrnluqbpum4cHh5+78++9yu/9utvfOO9T/76hwAAoChFpnEKQIABQYWUSaRULeMEo6CWtgAEFWCepyNJKWWZEHJp+3kqm4MBuX1Dnk4iEqlkyS7+9q9/8z/4ra//27/44z//N3/cWOncfPUNQrVytTkd9U9PfxD40WI2291558mjxyATpumgZEZIKgVXSiEAKIJ5gookX31EBWqZjOYFSH7wEYAsC2NQy3yXICESCRJkeYzCn6hefvrxh5f1AF1mP4hESZkmqe/N56PBZNinRHFGDM4V50CRGUYyy6LFXKbJ+PxMKZVGgV2qJt5cRv7z0wvPD/7JP/mHBPDjH3ykM851nXGgBAghErhC5AzzdIdKRgkqopRcVuVA8lgglUgVZVJmmZBKLT2RUoqgRKVIHjIBEVFKqen6f/zPfucX37/2h//yv/7en/z5rddfv3b7VSUFEhYFweHzp3GcZmk2Howa60rXTFCJQkVRUUCSUJ4XfKBIDhDkZZtSSuLS10gkQqEUUqHK6yOgQBTisgwkiKhyFwWU5FmaUgSJuqwEfkoU+AoKIEuHtUwMlUKRiTiJ4jjmFImuAUgkhAIVQs6n42By4XU1jcjG1nXN3jFsp7664dRfgP3s4f37f/RH3/21X/ulTJFnd+5yxjTOAEh+cpRSjCnOCKXLIAyMkbxIJYCY17CIUhKCqBRBqXKvu4xNeX6tkNA8RHCd/I//g9/65ptb/+YP/uDTjz/b3N27cusVkWaj/nmWpIrQQbc7H/ayOE5T4XkeAGhcRymkkgAECOUol6ecEAIKkRCppJSZQKUUClSKLHd9mR9deg+FSimikCIqpQjJARRJZJaqyxzq0g/9VDcES0PIC28gQAEooZRQioRJRJQEBBKSV0+01+3bpiPChUNjXYXB4Li0sqtXG6G/6Gzs1luro4vzR/ceMSJ+7e//pkzj0fEJZ4xSQFRUkryq1RnjVAEFkp99BkQua29EAoB5GUgIAaCMEqRAqaKU5pEirzIUKgDy3/2dX/n3/8H7/4f//X/+6MHzztrqq2+93Wqv9fu9SntLSXl+dCDS1OT6TIUKSRyllOmUpCg5VZwSQgF4vor5EaBAZB4KkUhCkBKUkLuhS38OSxTn5dlXSikFL5EsJUWW5dVy/pSf7YguXRC5hAYAKDBKARihoDDH/gAVU5xQwDBKm7UKpqme+iya2q1ty63Muif+fKoYA4Jvv/XW/uHhnTsPPT/69/7pPz2pVfbv3bd0XSFkhEilGKOcAqdILxEDIEiBKAIS1KUrwssARykFzikiMqYYY1LSPClhXPsPf+8f/rN//1f+8k//6MnjfYnk6s1bnfXN/vnp6eEBoZrKsnA2QZGKNFRCpmlmGLrGGCGcME65xglyCjxL02VGTCBHZkGhzDMCyMG4fKlzl6KWOS8iIkoFSoLMDRYBERWQLEnzxGm5ZX8L9/zbS/8SPlnmQcvkPHcNSEAqJEJKAvmrUUYN0643V2y7EHm+Yc8xmszP9jNJbLdEmKYXXKdad+vNXn/w4P5joP/in/zuP0GR9vcPGFDCECWVFDgFnRINIMkzeCQqz4lJjqMBUEYAgCBDIEAJgfz4L4NyllmG9p/8x//sH//9D/7Vv/j97//1jyilV67t7V695XtRkipCmEziyJ/PeqfBbIgEhYiyNHUcgzNOFEfGQWZIAQB5KjIOlDOWV0+IBJb5be7xlkWKUkQptUzekIJCJAoVkZJISQFIHssBCEr5E0f/p1rAcrlzIH5pCHlSmEPTDIAThVIJkMAIAiGMcESpCCoUmSLhbMiGx3pdq2zetqrNLE1EloSp0DX+7te+jqhOzwZ/+t0/+o1/8A8IIRfPn3HKkFFBacqBUdAoYURJJAQJIEFEuvw0QIEqAMYAgBHgBIBApiFIRdNM1UrF//R/8R9+5/0b//L3//mPP7pnFYp7t7d/+Td+xy1Vu2fH8/k8STPDMLhh2sVKFPlhMM/ZC0PXOWNScKCcUKqAMCA8P295OM3je37SczRiicvmOalSqNQSXV1WzkoiCkpyzIlyZhgG5ewSV89x8b/7/F8CpZDn4pSQvEYHoBQYQA7BAyqCkGPLlHFumKaSUtc1kcYplUIkjmNx20KVxotpHEeMc8N0azV5/ebt5/svvvdXH2ka/6Vf/pXFeBxOJgCEA+FAOaMaRQqEKPkSD6K5QwIghFDKgHEKnFKdAAWaEapLxcqa9j/9H/3uL3/wyv/uf/OfZai31rcBydtf+3bgz3v9fqFYdautYb/fuzjnFMLJKJyPuMY0jVHGJOa5xFdGT5BwuESucensFb4kwPJSBXGZhClFUIHEHChChRKRSEUQNY0xDpxxw7KAUVzu0GXo+CkWQH5iDwhQ+tUOUM4YYzkzRHL0n3POOZMSC2650WhbckBElAaLJPDS0I98T7eLzDQN2+6fnyZxsrq6Np+Oxu329/76o1qjeuONVz/6/mcMleHwTEgOlFHCgBCCnPFMCsq5phuZVIogMMa0nOfSKdMIpVQzgGVOwf3NX33/N37xjY9++Bfd3tgsVLevtCjTKONBECkkcZxapdrmzTfoi2fnB099z4uC0DR1HfRqre6FQirkAJRSAlQBEkI5uUxT8si6RANQ5WROfoZxiQ4oohRRBEVenyhCgHDUgAEljHNN1ynjeW59aTw/Owki5KXPB3IZgYFSyjSu65amm6jUJf+oca4N+z1Cr1Pd1Kkr/ExmUrPKQRCW651Ke0VmyXw60rjeaLdFFm1srgLFDz+e/ckff88y+Ktff3M8S9PZIs2esihiABrnTKhaZ90pVkuNllOqKSkWs8l0NPQ9L8syyjgwDowzApWq/Ru/8ta339399Id//t0/+cFsEdX1mDNm2HYQ+N7Ci6M4SlLfD7zZpHty2jvd58nc1hlSrpBbhXIYZQQJBcYoY4xlkhGpeJ6aIaXkEovBl+UXXqb4SqFSRColcmB9WQznpzIH9F8yhKgQlbzk45bM18+MBPgTPCEABcaorhuGZemmqbKEU8Y554zrmubNvUwSahjxgmi6ywwHpXTdkl0setPRsHtSrNSKtdqzx/f90cVocDHunVfLzngy//7ffPjb/3hV48w3rfbrH4Rf/MjVo3K5Y1cazc0dopmM0kwqIbKdK1ekVN2LwWg0WsymoTcnjFZrrdvX1964sfLJD7/3/R98/Omd55VK+a1333Lc8sraBqGsUm/f+fyz/sVFFEXP7t89OdjnIGs2c0xbEi6RmpY98yOJOd0FlFNQDFHwZWKDBJY/ORHykhFAJVFlAiUKKfPCEBEpI5xxTeMa55wBo5QxYJxSxigQsnwWXsKOP/sBsEShl1wAY1TTNd00dN3IOKP58nPGOUephIKS6/iDhFpGOJ7y80Or3MxKVW8+b2/uWY7dPTmwTV2r1XxvRhBPT8+Zpj95ccb/5C+//vWv/fmff/9bv/zb9t57DqpKe9XUoehoB0fnnGtBGH72+d3333m9XKn4cbx7/fpiOuydHVum0aiVbm4XH9//4l/8f/9QSJJJbDSrn3/6iWMXLLf03jd/sVLRt6/eqDRX9588tguubRsMpVsuGpYRBkkmY7dUPXg2z0F1qgggMEqBUU6XCAACIXzJLSz5MJK7+SzL8y9CSI5cMk5pziVzxinPtRGcMQr0kqhVS+Jdkb+Llv+J4/+3YNGcFKCMc65pumFqmsm4ThkjS7EApZRLSZxyMaW+iBSCBkC5acssba2tG5adJaHrOho0+93YsvRSudislI7P+1w3LnoDpbJJ//SP/uX/g5vlnd1r77fKmMHh4ZQoSUj87MkzkUZA5Gdf3m21WjSdG3KG3sHwYjE6SL926/ceP3w0nS0oJVd3VmrVMiq5u7c3HC9ODp8XHKdSKrtuuVprOI5dq5R6R89lHMRRiiIzdM0sFON4mCfb+dmmUhEklOfKAkSuJCOKEmSIgAoxr4gzKSQSBAaaRjVOdZ1pGtM1rmlc17hucF3XdU3XaE7uAyWKoLwEHJdc6M9xQfQnXRCllDLGNG5wzWCM5UqT/JcQYjIcVtur5ZqlZEq4wU3LG14wzrjGiRIyS4LZJI6CQqEgZWIabKVdajXcer3caZQmo74fhPPxYKPBKmZ6enw4GI7iOGo3iofHp8+e75saKRX0tXbF1uTTR3d1JjDze2cHp0cHk1F/Oh9LxIUfPXj4/KMPP6036mvr6++8/x6gvP/Fx2dHL7LENzR45Y23N3auUoIyk1GUECIqzabpNphuIIWcwkcCOVrAKaNEKUYIlWSpG1ASl7QDIQBMY/QyWhJC1WViwjjXOeec06VGJ48DNC+ILwMwqJ8XhuHyxYFSCpQu9yB/B0Ypy20DKMsxNIKkvrF3/mPOWRhEgW4XS50NRJVGURotZBZXaxVvJk7OnxQd8+JovpjOKWAm0slk/BffOx9PF++8eZNT7nlz5IM3X7/+V3/1/fPjZ1JmIOftxvpk3Lu6uRJGiT8jWTh6un9MCWOc//iHfzMY9EWWjsYLjVPL4J99/GmcyLWN9UarMx5Pjw4O/vV//S9kmtYb7fbqplUsp1GkU0VItn71BgIPw4AikqVkgytgBBXPgQB2yRERgjk4SQEYKspkXt/mZH2+WDRX5eQiEqZTzhjnlFPKGAMAhUQIRHmpGPh5MQCAXsLyOYdAgVBKGdOAaZCrmwglwIAApUyk8aJ3ptXWkfQMd3PePV6Me1e+8w9EFkazC7tQAJTjiycYj6OFN5tOkzgs2NpokR4edznjr93cvXn96l98/+Oz7ogyZllmtVr84z/+s1qlwKmaT/p37tx5+/Xb/eH448/vvnl7941Xb3746R0lss/uPJ3OPM6ZZWqGzlFJy3YOnz97+vDeW1/7ABGiMGAEJtPZdDx59MWnlbJru3ajVrYLbholD+/dzzJhQB5nGQIQyhEYh8tcPefwCDKFCkgeKCjhNAen6CX3SWHpDxjVCOVM0zinlPFcVAQsV4iJpYRIKVQU2U9Z+Z88/pd4BOQ4PWVAGaUcCb2E6xERKVCSpY//9P/9+q/8Qyh1zl48evzRR9fe/+X+yT5VYaHgLOLZdHTaPT+RacYN6+1vfO3s8Nl4OhssBpquba+3Nza3SpWSUugHkRDiu9/90//+7/3uzkbr4Og0zcS9B9PV1c6T5y/uP3hyctYdj4a/+MFbb7x288s7DxBUo15Z+OH2ZvtrX3sjTLlpl4b9i35/8PT+Xc/zLdut1qoyS2fTmWTU8/12p7G6c7Vea/7Nn/5h8VqRch2VIKAQAIECoQjAkSAuYdklFUCWKi9AQhglAGqJE+fHnwKjjGsGoxqhhDENOAfGOFCgNM9miJIoc/D20nX93Y+vtFlAL5+XvxkFYJQAXYoEclIEiFQiC2ZF2yw0VjJqHj1/9OSkq9Wf7Fzdrqx04nDhzwambe5cuQrMLJarTqEw3Gl/9OEngpmGbtYbDUGMx8+OU6Hef+e1u/cfd5plx4DAX0xmi7LrnF2MPC/42ruvN5v14Wiyt7t90pvYrlssFYs2D/xQ07JWs7q21ums39B0+/D46MuPP06SaGtzVUrsXQzjKBgN+4AqyuRo5hOq/epv7FZr9TgKAGxFBCEUCSChORjGgVJEzOUcSBQuGVoFlOYwIQUOeeTIXTEFxrim6ZQxApQxTiknQBmlACDzyCIELoV0mL84/VkuiCxVHXApWIMlIEGB5XU4JSCUAsm4rovIW3/ta6WN63e+/4c//uHH+yfjyWh0eK8mdatYr29fu3pj/YptmVzjRMnu2dF0vggTRQk+2z/tj/1Y0lK5/Pd+6Vsff/K5UuqXvv3e4fHJ6cWo5BZGk9Fqu04ImKbWrtcf4FMlRKVemc+D0cQ7OY+SODI5Hp5S/PDR9sVia3OLKvHBL3wnCMKL8/MvPv3isy8fJXGmEUwzsYiyTEr67PC9b85/47/3H/31jx5MzhNGiGQEcmknIYRQniNRBIgioBgQRfKdQZQEKCW5bi33C4RToJxTRjVN41QjwPLKaeklckkfXbqrPAr/TGbsUpSzlGJecjKX6iAgoIRQWQpMAueMAioVCvDQikLv4On9k/PxNEgy9IIwtcvl3/jgl3auX3MrHUayNF68ePrgwaOnz/bPtjbX01S5BXd1pelFmaaZs/Fo/+D4g/de3z88uuhPttY7R8dnaZoxShlnmUDbMd9/9/UHD58uAv/W9Z3VTm3/+BwoC+M4SMhxbzGYPPuzv/i31/c23njjdrHS7KxvNk+7q6vzL+48pIiSYCYVBXBd6/zsoLN1RbPcRPgmSAUkZz4QmELgBHLXQ3IkFr8qnQAAECgyqjFCKaUMclSGMa5xjVFGEJZqIgKXBDcApYRckt4/twx+GQNeujkgAITlNrPk5yShAKAYI4AyJfp4Op9NRk6lsbm7Nnl4HGVymsKbb7y1c+PG1u6VNPaiwBsOLg4Pj0uFQrVoG7pebbRqTdKsVxZhFify6LRnGEaSJIjQadaZZpxdDAzT7A/Hq6udhR+EUWRb+ptv3BqNJuPRtFJ2DF1r1sqDwXTn6jVvPj/ef7YIoiD0lcpu3rjulKo3bt+WoA9Hk/7FUGapoTFd11y3AMz0F/OFFxAkiqCUSOmSTUdg9PKcXurPcy4i3xVCAYBQCkyjnHNN1zRN0zSda5xRyPNZxhSlSJmiVDEGucDvq8X7GXDc5TZc4qL0b4vVGKOcc8oozU8MIRQVUzKLoiglaeSblpGi0i2D6SwSaSazUqmIMpkMTp88uPfg3j0OiqC8fm0nicN6o14qlY7PBo5tSykbVTdN0jsPn08XvmYaq6vtarWcpmmtXtna2rp2/epkOv/k8weHhydrnaZl6lGUFt0SSvnGG6+WyqXIn1oGa5RtQzc8P3n05PnF2bESaatZWltfSaXQNcaWSTXubq0Oh+PBNMpTbUKIUkoiKmCEMS6UzNWmFHL/s5SKLKFxxhjnwChllFPGKAGaCyEpUJZzqJjH0Zy0pEt5JSq1RIKQqJ9XCHyVBV3KExmlnHPGgAFBIIwiA0IBGchoPgkXrlJAgA7G80SqQsH+4Jvf/Po3v0aJ8Ka9wJsRxFLRqVbXskyenPevXd3zwqTcXjnvTeYL37ZMmYSMwuFZ7979J7/wnW9MZ/OzswshhMhE0XUWXhhF8XA4CYKw1ag06uXJ1AeQtWq51WlNx8NUEKdU29pYkVnSPe8Nh8Neb9hu92u1qqmDW7BmC59xTpVCUJ4fPDmDRYAay1eKEqSKIKKiCFxKVCqnvHNeQlFG+TKpeZkXIqO5FJkp4AQooSyHMHIgHfN9AwqXRVsefF+KRH8GLw+XYWDpiAjJ81DOQONMYwzz/JblKRkBghcn588fPsmErxs8FaLeqJcrrmXp3dN935tRStc31uI0Df2AUHDduNZowmQymkxM05p7YRhGusa//vV3jbsPT8+6lZK7tbW+sdaMokgharo+msxEJnVdq1XKs4XPObVtJ0nSSr1p6VpiF+rtFQ3I8WnftfVqrSylPDvrTceTVrt5dW8jTtJ7Dw+CMJSImcCP7ndHaV3XjZz6QEAgFAgnwAhQqpSQUkmxlK/mMghcZuUUFUoplESplASCjCOAIqiQKFyKU/IMiVAKlOVV3RJGveRkfv4jT3rhMgYDAQqcUU3jXGOUAafIgTAACshAgcL7d56ECZ0FaSaJblhvvfVmEvkX3a4QouA4cSKOj86Zbhcr9b1rN4ej+XF3KpGVK9XJbPHsxVGtUvmFD966fW0rSbODw5PT857juGmaUWDlSnl7a3M4npRL7ntvv37lypX5Itg/PBFCMs4fPjm4GMwM00xFcvXqzs7uTqlSq1bKr71y3bTd3mAax+Ev//K3trfXwiQVShHKB9M4z7bxMtujjDLKOdMo16hQMvcXQiohVc7tEiWlEGkcZ2kqhZJIJIIkVBIiFcmZnZyYUYQQYJRqAC+NhhJEVHkc+Dlb8N8IwkBJLhFiFDjLoVbGGeGUcUYpJYzmugmsNhp2wZWERZnc2l7VNfns2dNPvnjouBVm2JPZYmV1DZUYD0fPXhzun/R1u7yysn5+3r374Nl84esar1Qqq+0WQdQNY7XT8b2FlBIobTfrZ2dns8l0bW211eksFt5Ff3x61u+PZ7VqzXZKQZRMJ4uNzR3LKozGkzARw3myCDKuaZlSBycX/fPjbvdCKERCkzQzNJb3MSAAEprLsClnnOsa51xJleOeSIACoCQSBVEyhySYpudCepVT5FIRyoAQphRQmvsdIEByCAhAAV1mtHlYX7LDPx+SXgYBAjkOcYnHcZ1zSUFjwCjllHHKgIBuWSvbO6ZNPnjvzYXvv/3GFZn6x6cXb775BtctqViaIdfNYOo9fbqfKvLq6281VzaHvbNqpdIfTpM0ZRqr1ZuVapUx6A/HrVZzbaV998HTzY3VIAgPD4/iJFlbbb/73rtZlvz4o8/jNFNK2bb97rtv7x8cpUkQhtFsMlEyc0ulYlFjjLVNWwIdT6dplvzqd97807/5glBqOIXd3Z39nkBctuHkonwODJRkRKNEIkqlpESRSZEJkUmpch0AZRSAIgGZexsFQoGSRArMhBISpUKFFEmeMuZtUBSBSiSX+dTyR/1MI3jp/79CIwilnHLONY1xSikAB8IpYRQ0RnXHrbU7fhCur6/9o9/6ld3trWfPj67duLm+scGYPp9NS8UiAcgyrJTLKGXgB74XNJorxYKrFNqWsbraKVcqrWZV49qDh8/+4q++3xuMkZBy0Tk6Ph0Ox5ZpdJrldqf5xqs3S66jlFpdaW/tbDGuz+fz05OzJEps21ld22zUarZt1arV7d3dRqMhkZycjzUG6516sViq1VrXrm5Xi3YuDF6GT0rpJctBcxWWyLJMCFR5705eJlAEpghVChSCQCaQColCKqGIQli2TyESzDsOAJdldB4pL9usfm4e+re8UJ4lEEqBweVnBMoJ4UA0CjktoDFuWXqWJLphplm6f3jOjPLVazcMy02EotwouEVTNygQyjU/Fhf9IaWgaRrhmmHo13bWXrl1CxUZ9Yca5xe9/rOnL6IoTpPs/oPHWRKedy+uX91+753XQ29hGrxVLykps0w6dpECHB8dP3j49MGTg0WQpVkWx4muGVEUD4ejjY3N69euTufB4xfna6stRuHsvH98tM/ZSyV7jijmWC9nXKdCSpl3nVGe419A8zyHA3ACTAFVhCkkUqFQJEMQuVhRoZRKqtwOXlIvy7pO5dqgy/f9ee4H4atklFzyMpTlXQcEGRBOKSXAUFEAlaXD3qBar9165TXgpW7fq1TrlHIhlWno1WrdsApRImJBTy8G9x49//yLO0+ePOScBqGfxNH1va1isShF0qqXt1ZqBLHgWIzRSsl1C4W1dtU09ChKxuOJobGCY22vt3SNb2ysAyF/89d/fXFxUSi4SSot26LcbLTXKrV6qVJRSiVJsrO5QRkbzIPB1H/3zZvlktvtjeZ+AkDz5r8lykJzn0o5BUoYJYQBpcAZYYwAw2XLCltWzJA3dSighKg8/4RLOYMChhQJB6qQKqkIUCKkknJJS/47EPM/qQnKZSH52/O8HxUIEAIq7xqhoFAE/tHzwyu3d02r0L0Y6KbFOS9XKoyxvBuMaYZYeMAMw3Lr9XoYRlkcCZF02jVGaaXsJkngeUG12bh9c8etVqu16ng8rlXcQsGxCsX1tbYOQop0MZ8QJOVSseDYWxvt7vnpYuG98dZbSgi74M6ms1pNG88W1XKBZImha0JkulHc3toR5LhUqa5ubMbSGAZ6li0FbjLHFDV2KU2hnDIOBHAph6LIGFKKlCEwpJckY44sABCFhEgKQIAKIikwigQFUUAEoCKC8ly6+3L9FckTq58eAOhyCy6lj5cwUB6IOQVABCURKSF5G4NUUjgUGs2WSAMgeO36zXa7k8QeB8UYI4RIKdorG4SZqYIrN27NphPHNob9vqXBte2W6xgnR8epkEoRbjibG04cR7Wq224UFeGPnx50Wk2TI1FiNh1FURqnollziUj6va7jWLPJuF6vmoZeq5Vd1w3DwDS0YBYCyqLjKCGrlcp13R4MLoajSbFcezGYpipmlOW5qFJKKooMKM2bcbmGhKrlqeN5x27OQZGX9elSnbLMlAjQZWgFEJkiKiWIjDOkgIoASZUguUZaqUtu7Gf6nxyOW8IeL9WKsAS4lwX1V/Qx0Uyrsbaum2YYznXL4bqhaZrG7MV8YtsWAcq1gl2sGJ6fZLFcJGcnB5NF3GkUayXj7Vvr0WKy/+JwMJpkqAzDwCRhDBKmTefzWr3e6w2ASMO0XhycwNEJQ2Fp8tVrG5PhxXD69P6j/SSKdF2LM9zb23PM1+r1OqNcpKlIU6WbuqHbrttY2UqTMElEa6Vi6kEcKkp5vp5LEbBCAoQC5ZRxQiklgJCTf8so+BKjzMWJlDACmANDgBSVzKREojjjAECVUpIQRIqEUEAgmchEbgXq30Wje1mFvYzGZNnoCIwR+lK5BARAKcU11lpdsS17QXmpUi9XqnHsMcyCxaR7Mu2s767vrN394pN//vt/8OzFAWTBYjHPJHHd4mqndnNvnTLm+YvZfP74+bFhWhtbm3GmFFLHthfzRbPZCH3/8PRMCmWbvFW1W81mEGaffnanP5woJJZBywVLCnH3yzt37z7Y3uxsr7Vn00mpUq7UG6a1YRdKSEitVvfDsFgs6rpOgvjyq3114hRZ9jnm/ojjVw7gJSYGBEFJoJSQyzYilam8WAYigTBElCoDiRQZAspc1AIiS9JcPvSyOeinuaBlDPhq6S//iwJwBowTSpUSuNSWS1BUEaAU5rNpFKf1ZiuNo+mo990//as79x/vbdR//Tv+X3z3j/8vv//HTsH81ttXa5294Sw4OTu9eP7l+eFoMRp++xd/YbXRMi17PJ2fdodpHDfrzSlRs0Ws6QbjnGtcZlLj0KiWVlZa09niy7sPk2jeaNYXKXNYWKuaK6sb3/yVW//n/+t/sZgtSnvtZ4Phx/deKIR2q3H79q1bt24sgiRJMyGFYRqooqUXzpmwy3IfpeCMs/xkEaRLERUuNegIDDGXBwJKJWXenq8IybuRCRCJSomMIsq8OV0tsW1mpHHeJYDq5xTDS1w2L+S+UktTRhlhnFCaS1WFVJwvYzq3CgpBKQLAiMLJePRf/Ff/+ns/+LHrmNsrxWrJcF0nzvAf/eLXmtr5ePAFSP3s/OjqjmtRHA28L+/ce+Ott3d3dysl9y/+6kNT56WSG4RBtVoNo8j3g9FozDX+5qvX1laaSqaPnjxLk0WnbVu2mlz4Rs2qlyUT3WyGlKj2Sus7v/D11ZX6w+enkyD7/O7+n3/v+wtv0Wy1Ck4hjpIsE5ftZMtvR76ycso1ypfCBbicaoCE5ORXrpRWSogcDmYkJ/TzLoa8Z58QUFIqQSnNiwgEgkrINFFSLmW8PzsFWrL9f0sfRwAIMKCMUIaXTcJSKkoVAeHPpkiIZlpaKkYz7//5//vjx88Pfvfvf/PWbuPmXuvKzRshOoyxcN679ctvhmF0cHr++FTfWdcrxYLXcv7Nvz0ajuevvPp6qVjsDca90UwhRlGsUNqOc97tS6WA4M7u9sb6+kX39OHTo0qB7W62NNNmRp8QUi4XqwXj7r0nUqrV1VXKLWYUNleb1QT9MH3w6PDTT+9+7evvVMoVyliSyvwUk+UgguU2UCB5LwRheWMKMECax0GaN8qILMviTKSSCMII44QzYHkgIUsWQSqZSZGlaZqmIsvSLMnSJMuSLE1U3lN2iQf9NCPAl17o5dGgywgAnBGmI3Cl8ipELYWTQNM0S6QyLOvzLx988sW9K5uN3/3tX9pca+mmFSSkUqk1GrW7j4+EkO2V9vZ65/U9t1a1d7Y3VldbSZbdffjCMJxGZ2t3b69VrzRr5VKpIKWcTGfVSqni2muder3eqNebCz/rjwPGebtmtOvO9krhxk57Z71tMLV/5q2srPzyt96bB/KsNz48G/7o0wemqTca5SxLh4PhbDbv9iaEMMj74HNgfqnAzieUcEoBKCUMchYFUCkpRJalIss1WQgMGAeuUcYhF+lQlucqyw6ZVGSplEscI8nSNEuzVKRJ3k/5EhL9aVZALw3hKwtY5kCUQh4DQBGCKscBCeFaloludyCR6ro+HI1sS/vOB28XiyUAOD05CSLSWtn4zV/6+vPj+V//4MssnDQr7Bffv/Ha7Zur7fLcT8eeevjk2WKxYJS6BWd7c219daVaqZiGnsVJueTubq4V3FKxWAagL/ZPozg7uIiGw2lZC1/d7by63ckWox98fHw25b/07XcB8N7DJ4+fPHt2eOaHsWE7e3tbRbcQJwlj2kl3lGZCLfWfX60BBUqW84GAIKFSoZJCZUKK7LI5aqmH0nJR4KV+kxCSz8RAkjusJdQmlSJLyAelklkao8zwsqnmZxRj+BU3iS954WX3MGOUcgJcKKSUgEIqJCSJYpHvBQBUChH4i9/4e7/wtQ++fX746KLbPzs5DDLzxqvv/M5v/b1Pvrj3//mT+2Hs/72vb7tcGHrp/r2D3/83D6OMXvSG9x/c+6Vf+Ha7vVJvtoJIFCyjYFDP1Jr1Rr3s8rMTmcW9s8PPv7xrGFYi6V99Pr0YBqtVM4rFo5NgFDm/+Ru/8u67b35y596nn90JfA+BtBulctEulyvewj+7GPlRyo0SKA0gXRJT+SlHUHkrDgBHJaUSmcAlLIqKEEI5yyGjfB8Yy1NTeDlSAy/zcqSEiHyoiFpK6pSkqEiWXrbK/DvUwi9Xnn5lAGRpAxyBSUIEKlCKK4oKGeW6aZmGebT/lDN4/713CqUa150gkofn0y8efPfP/vLj3/2n//h/9Z/8sz/8k7/58ad3PvziB80SZZoRpOZb73x9ZRDMI/LZ53d+4ZvvF4oVQjWczTY31hN/ygzbMAy3XNvUdSDk8eMnx+cD07I/eGPvrVd2Pn949GLqp5la2an99juvF0ulH//4w7v3HnmexyhRhBRcN0tiTomma4QQXdcFUJmlQAkh6pKjBbzs7UVCuJCZzDtfltuTu19CIVcC5iOccpkUA8YIwPJYM0olp5JlkEkhEIECKJB5XwGKVMos1zrmFdxPX/6v0tClRPGSHEDKgHIEhgSUQgV5OwgwrnHdFhJH44njFiilIglkJlY3tk9Oz5XIBtPR//H/9H9/663XX7197d03rp/3+mkmCpbx2q0rmw3r//bP//BHj6effH7//PS01lkFIjXOauUSRXV1ZxM0KwwWjmM9e374+RePF35UrZRGw8Hu5rvvfeNrcYKHx92Ts+6Tp8/Pz86m0xkhaBk8zoRTKDDOGRBD1xnXlMLJdGYUbQIIOUWIqBTKfEwa5kII4PlOIKJCSgAI5YTK5S7kAgmKQIHlU+UYA6CISigkyICiAEBEtqzulBIglUpl3tUvyeUoC/LTbeBlKbBMzZYiyFwqnY/9YXnAAaWAUG7a1KkKhIv+6PD4fGdzo9WoD/u9jz76eH1ze3N7azKblsq6FgYfffjRD3748Ruv3bp9fWd7pdNpNXa2V4PBkTedGJCdjcdffv7xt77zTcO0bY2lNH7j1au65SbIz7sXweT82ZPHD58dATBNM+Zh9uzp4Txhn999cXzWCwI/SYQfRToD09SEkIxxxmgSx46l7x8eF92iW7D7w0mFlhUxMB8GtBxrgFKg5BIZR0K4lBIRECjmHAAhOTDHLgd7sVwXzijnPA8DijCeN/sjoRQAicRUZRmqnMRhLG9ZuhyfRn5GDvS3zAAhB+KWLohQoJRpXDNsp6QZjuU4jU7HLlWoXeKWNV0EXNO21lqgJBBY39gOfa/dWSH6QbQYFRy7VilN/eTw6DiOAka5Y+nf+sabNQvALgschnEKkGkUQaUG1yu1mmEaQgoWp51aYTQMTU78MAJKdV2vNkpHfe949OC0N1WoNK6lmWo2qgyz/mBCGAPKNI3v7u0ohVGUInAASFIB1EijTCpFmfZV3wtBmU/gAsLzBtCcLQPK86kbucdZ0meULoXKjF0WyACcAVAiQUgEki67VxlwoASoJrmuc7ikBC6Z+Z+9/PiTNTgsd5IatlNqr4fpillwVldq1WoRgQYpKbiGbRqwvV4pl0ul0mTUv37juqaxv/n+97e3NlbbDd/3pBBCLerVaqXoZJJESXJy2jV2Nuxyw0/Ot1cqu+vNcDEpOAWpMiBaGsfD/nmapkSpab8LKt1eqYRHUz8MyCCrlgprK2XXi+eer+s8ShLH1IJQrKx2CBDO+Uq7Ph+PNNNuNhp+GBcLpjKKhWIxSWdCCoIKkeVyQSmJ4rl6lvCl5gYBln0u8JMDpWhOEVDCLifrEUooIUgYIkUUiAqBgsYoRUDM574pKSgAQUHwK3HKz1r9l78uS0RCCFDQTKPcrKVExuOJ4xqlojGbDINEeSmr12uVoptFNcO0dF23LEs3DMuxr12//ud/8VdRlNy+cWXheWGY5ECXZekF11lZWZ0uskWYrbbqr2y6i8mIpJG+tsk0UxGahhMRLRI/9KJ4NBweHJx6UVKrFIAxIOSi1y8VrWq5MJpMJ37IOQ3CcBEkeiY9P9xcb0dRaFvW5sZqvb327MVhqVQ0authGCRJsgSAljk3SqLUcuzeUorDOOOMXvZPAgNCc19Al5p9xjjjmsYohbwh+xJiAAb5+E5G8xmeeSsRByAo5EuJ4s+XZy07VZfiOIIKMGNUlCtmtWyYLMti/+nTp1/eu//5nfvd7kWvP8ikajQ7TqFg23a5XM4Bq3a7/Uvf/oZtaF8+eBylst1uCZGGQSxSeWVnhzNjNJ7ahnl1vXk+9D754sGod5ZlKQDJIo9IVSgUKNfiOJ1MZxfDxWQeZiJrlh1TI6Zh9HvD8/7QMM3N1bptaV4Qx0mqlLx9azcOfc8Pmq1WEoeWbd+8/drmldcypS0WPgAhy24hoi6hhku2CjnnHAlVmB/ur85kDgnlTE2eABGZ16ESCbnEjfO4gZTm08eQUqCUAMkHrQjyss/+p0eBS69GCCEyE3Hoh4txNJ+msc9IjJjpNG2WtYUXOpb+fD6PJXn9jde2Ntc0XYuD+WDgl0tuo9UeD87jaLH/9NH3f/hJpoiuscfPD5I42V6pXb++VyjWiuWKTGNT53vrDUphOpsmsT8ZjiXhg7HvzwYKCKFaqMxxrM8jJdKs7BilSrVWLVdLzmjqU4NbjlOu1sPADzPh9WdIyHTunf34ThJFt65tnZ0cR1FSX92qN1qlYnGaysk0yBvxEQmCWs4oXeY9iEg5LH0QICIlKpeGAiGUUA0YIYQoqSSkSUI1ToDm5CNeotXwcr4kpUtlLwFUSAGJkqgkIcvhZT/DBCQS38uGw+mk350OunEUhEHMOJYK+unp6eNHj2uuMZp6hUKBUnjrjXe2d/eiwDN1atn28f6JbZ0VHfPi/CSOQ4rp53fuCcI319phlO5urpqmub61U63VgvliMPU0jVk6ttqtzdY37n/8/ZXNvW5Q+OLLB/Npt2hRidrh+bQ7DihqxaJDgdTKZq1WBEYzKZM4Ccdjx3HW1tcarbYi2uZ6czYa/OCj+4SQ2Xx+7+HCj1W58cApdJ+dRbzQbLXb/V5PSrWkxJZqT8BcUAuE5+khy5W5Si7TcAJEocqEkktDoIQQSoCyJb6pkFBFkOQjzYiSgGo5l0eJ5ejRfMgx/lRFhCTEi2R/OOuenj999HA+6hZMLZWqUCgoRE2pxWRxenQ8HI78GYlSkSlc3d4jhN2/e79SLvl+sLe7wzT7o0/vUeH/4Z/+1c567cZ2/R/92tcJ1XZ295jh7h8cv/P2252V9nhwkUQLUwcOtNWs1ypFHfX52krEW//24yeff/xpMB1UXdPVoTdZnM1Sp9wqcKdupVe321SzEgnb66tn3d5ktjg9PbMtfXt399qN3yKZf/ezD995ZROAzf3w4GRcrVWiIHp2fMLdtdlw7Lhus9PuX1yQy7bRpZITljI/rpRilDDI6V+FCkmmFKAAkACgUVBSSgAABUAo5pSIwmW0RCFRSqIkoqRqGUSWChiURF2WGepvuaBMkYuxf3J8evDs+ZdffD686CoRV0ql9kpnbb3TrJbOL3plxz4/uXjyYn8+n22v1ksl16k0RoNB5E2vXbsxHg+a9bKms9WV9pPHD/efPU7T9PnzYyqitbW1re0d3TCq9fbb77yvm1aWxr6uF0slWnQMzjUORUcvGNoP5smj548PDo8Nf/TGirbRKtg6OTkP/yaej5PpxdR/55tXvvXtr5/1Z2fdkVDhzs42OTozdG1jfb3RaJRqq6E/KhTczXVqWs6X958bhqZzGM5ip7LhRYoQ4i8WhJBavTHqD8myY4UAgbyhgjLKNYIMkSqFqDKhhFR52CUMCAWlUIi8gEBQijKe694uZ8gRkhdcSDRCOAOCSFjeVwCAElBehoHlkUdCvFAenfSeP7rrj7oHB8cHz56LLCq5Bdtx9q7sllz7+bPn7Uap2ahEwWx7Y/XgWApqrqztnp4cDS+6ld2dXveUABuPLsajWq1S2t3ZTrzxbscxNMJpdnR2kSG//cqrmunalQYjMgo9z5supqOzi9Ht2zc4N6lmFOr173znG/0/+POPuvvD8bzGKpoMAeiLwfz++bxUzH7rF27/k9/59UK5tX82++5ff/bajd3hZJ6b89HhKTccu9SOM8rNovCz/aPucBpYtl0qld1y25dMygQoBwBvPqcVWqqUvYW3TEly8pVSQimnCEpKhUIiiuVILAbLEVIECKKEnFihir0cDZQPlCBKoVAoFYPLvIlSQKBco5qRD19dkugSqQAp1Xjiv3i+f/LiIZMBVWKxmDZqZaXcWq326ivXbZM9fb6vYh+lmaSZXSivra+tb201W50Pf/wjkPGrN/d03ZyHEWUaABuPhpWSU3SdcrlkENZqVjjXGqtyPJ6OhmPTrddSkfiTQff44uKi6NgHp4NKpfajT+//3n/nt1fWi7uvfu1/trq3deuz/+pf/dknh8+6noiFGgbp+t71/8G/9+vfeOuawUngLWol+xtvXr16ZRcIlCoVt1jhRmEReI1Oc2rpo2ptNpkSBMfkTDdrzbVGcyW4mCiZASH52IvFbFatN0zbkkLlknIgDBgHCnxMTK6xvF9bSgmoBCIhhAPJE0qq59UBzbtbMddII5GXg+OIRgiQRKFkHDSNcs4si+oWYY4WZxhGCmiSSqnkbDI8eP5oNrwgWWwXnKkf16rl3XLJ84P1tU6zVnj64ng2Gm+vNy3bnnlhlArTcTXdWMzHIk0btYausUrJKZeKh6cXYeBVy0VT12uV0muvvnJ28CRMYGttq5wlG1tblNtupem6xaLNm1XnxrW9IIw2Nrc8P2y3251GJQx9wizqrv7qb27W167+Z//b//zO0YFEouvG//x3fvtr3/4FFOFouH/64tH9xwfPji5Emnz4xeOb1/cc2/nGB19f3dyVUgCqgsVbdTsJjTC2BHWb7ZUwk9O5T5kOoF2mO2Q2mVSq9TCM8gwmn8INAHxkVtyCrYSMo1CBkFIKIThjZcdp1IqmY+umaVomogqjJM2klEIhyYRKc+9PFKVEZDLLhGXZSBnn3C3Ylm34iNOLvjZZOI6jcWCQnRy+6J2fbK40EuCECEPX3GLh6Phkb2dzbbXlL/zueW9vo12tFI+PT5MkmS983bLtghMGfsEtcE2bTYco4lqj1Ww1TMMYDEf9wbBScp1iefv223EcBN5EKdFor5lWyS5UklSUHTdcRB9//NHDB49nk+nm5po/Hx8+Lrx+e9cs1pzaFmH2+vraBx988F8+fyFE9s7733j9jdeiYA4iEIplQu7sbnEO6yvVWu09t1RTRA/j9ORihNRgJGus7MymiyA9Y5p165W3LLf5+PPHUqp8Dsoy8iGITC68RalUSaM4b4yUikhUfHOnbWjacDw7Ggwm04WUChktuS4t8dVqxS4VKNV005gugn4YxUkWRDGjFJX0PV8pQYhCqVKhuKZvOI7taKahO67JGPfnYZQmBaJ0LmUijo+OumdnSiYiS23LIkREcTaceo5j72yt+0H8+Z2HBZM6tuYvFo6l3bt7T0jRWV3jjLYb9Y3VldF0HoXB/vnw+mvvVBS+2D8wDGc6ndmWgczgSCJvLuIAZRL4vpDUj1NmlHoMihbceO39tY2d4fmBqYNI25ZdNC3HLJSjxTAjxjTCt99+64svvnz4+NG1a9efPLhXduhKp6GEcuvrTx8/KldrT54fr66vJnH4zvtvurVVojmeH/h+0L84C6XpVLdWd2vVevvF8dB03ASplIqxr8a2AUCaxGEUWaa1HMFKQCnKGRFBEAbBIolCTslqs4oAmq6XXKNUtk1di6JoMJx2+3OlpKnrSiOGRhiASpXvx16YmqZhmoZuGkBJ0dZ1XfODKBEUgDqWVitZjJHDw/N79x7MZvNm1a0UDN3UGJjzRd+xjN29bd0w958fJsFiY6sdJikFQim5eePq0fGpbRn1Ws33ve2dhu2Wzk5OquVqnMn79x8okb7yygpl1DSdLF7E0aJaqU0n8tG958cX82u3X681y4Zprq11aiXbn/UhCw6D6OGjQ4Zomma1tVapRIOLs+FomhBbctstFoquG3iLhQnRJI69WRJ5pZIbZcquNCoNqtn188FYu3fv3Q86gEoqEof+6cnBxIs2tq7Wm53n+yej8ZQQWF1ZGY2nYRjnEA0BREWA0DSOTd1ijGF+uYJS3PfnSpFq0SYbjdPuuGBpbsHUdWZoMgo8KdI4SnqDqe9F6ys1yzSSJPO8heUY9YpDpFCE12ulzfWmpmlAiK7x/nC6iGSpWGzXbQpEofCm8+7ZeeB5g8EAZLaz1qiVCkrRwLd12+aMU2BZHAGi54elsi5RLoKEMOP27RtM1z/7/A6KrFYtctNdbTUPj44//+LO5tZWGkxNy6aaMeiddlY6hJDFfNLrDdz6CmhGmiST/lm9vbFYeBqDYD57+ODOF48Ot9ZXKkU3bz3oDUYLP80UV0CGw0GaZpZVGAz7RcdYW+loFqeaySxrc4vPFn6jtdLqtK/evC3B1Jx6lok4nj16ePfzzz4rles3b7wihFoEcSoxjiOhhqsra74fTqazNE2X2TcSpWSSRJplLW9OIcgty6SItmVIkR4mwXSa2nqVciPwAgqyXKl6QYxIVtr1RqM8GI77/ZESWRDyNM1c1+l0XK7xWtk2dL0/nFxMpoZptQsFjTJDZ7ZphKEfR1ESRSanq/VKs1lTQL0gogCVer3Zas8m4xeP7427p8PJtNOpU0bn03kQpUzTtzeas+lsMriQSnW7F8imve7FvUdPmK7v7W431jZ0jXuTwSSNdY3ZhUK1uRoL8uD+ncHw+NmDuxsba6Zpa7qBSIqF9uvf+PVbb32r3z15/vjBbObVGi3DbUBKpYjG08X+0clkPErT8OT4MA792cJbW21bGhGEqEz2Tk8yhXqhXGnv2IVKFAumcT+IXrzYr1Tq12+84rruX/71j5+8OClV69V6QyH2en3XLVcr5TRNZrNFppb9qShVlglOGTKJinCiVLfXny+8i/44DCOZmr6tc05N09S4xilpVEvlEmZCECWCxaJ7dup5npDy2pXdTqvu2GYiZBhFw+Ho8KTfbNR3Nlemcy/vuZVS6JwrkdkaMzjVHKPVqGxuruV8eqFYpow+e3g+HV5kQmqcl0vF04v+ZDqrlMtCiEePHnMiszSKM5VlYqXTWCz8rb0r169e6XRWRRpn0Xyls7F/cPjo8eObN284BDiolVbz9OSk1+32B/00S2+89o5mvEqZBmAoyGZz/+T0PFhMDac4CuR5tx/HcZbEBqWVgl0wNIpoggrm4xdRYBfca9eube1c66xfZbrWWN3jmhkHCxmN+73TSmPj3a//MpGpadvTmT8YTtMkHY9GCz+0HadcqRKi4iTJsrTeqHuLIAhDtbyGJ7+UgaAEfnTSfbF/dN4dWCbfWG3ZlgmUSkWiJOGaJhRBITVdY4BSZGkSHZ+cXPRHO1trWxsdy7GQgG1pCy98tn/GOdvZWhFZenJ8Ztt6s1bMEjEZjSaDAUVZdq1yueSWy6mAUrVEkJiGfnR0uP98v1AwLdsBbvYG47sPn2Zp+s336isrK48f3u9NJyXXZWH0Yv/FzpXrN2/fsh1rNpv58y97Z0dXb9wg3DR0dn50XnHNzsoaIWha9rWre51GTUhZ72xoDHSdDwc9gmg5zs7tr9VX9gJ/Lgn/7LMvHKfYaTZRpnJz48WzZ1EYFItuuVQo1+tEszTDXVnf7qyucc6zLEVgCuDs7NCbTyRimoq9a7fmk9FkPDw4PBmNx0IKks+alTIME03XTdNMUxHHk0KhoBtlzw/yDUAlc50H7/VH3f4wipOVVmVrvWNYVpqpgusyzkzT1nRbSCEzwTU6Ho0Pjk+DINzeWF1facdJWudc1/Qgig5Puqkg25trlmmPxhNGsd2oUCBRHIosLrkmEQljRctxkGm6ZXLKuK6fd7v37j3khtFZWwNuaIyenp2bnL529VoURk8eP3ry5IlS0rSslXbddkuWbQmJIsvKrj0enJuFQr83eHjni91r19bW1g8PDrvnZzdfeR2VmHtBe32z0V49OzoSAvefPkhToRlmk6+RBKJEleprtlMs1zreYhYsRnEUM41v7l0JQ9829VxsUKw0K41NpukyTSbj0Ww28jyvs76tCOn3ztY3rzDGht2TUqN9/uDZj374cRBFCMB1C1V+xwkoBWGY5vqd6WRm2Va1Ug6CSCmlpFACJQWuRFxxDNfUFCHzILqxtk4o0zXdtEzLtqSQk8k8SyJGSZokFEWzXry2t9XqdKJEDIazer268KLBaL6+0i4UndNufzgYGDov2DYiBp5fLhb1aunB/P50sTifLt546/VatUqkms9mzx8/HQ6GN6/v7u3tEW54vj+d+4rQwdTTONMZmpb16OlBIuW33nmtWCxbjqNxvT8YcEY5UEA8PdpvN+umYQSB/9md+zev7n74wx8goXa51lzd6p4e1JqdRIhur7f//GmjsxpESZaGd774rN3ZePX1d0qVaruzErpWEETAWBJHdhiYpsEYRQK6YRm6ORxPzk9eDPqnp0fPK7W2Zpprazuz0WA2GbVWtkzb6XUvqKZzTctmM26YSsll8zuRhCigHAkhiEBJGEZKYblcEkmmpJBMKcH47ZtXA897cXiaSmJahWq9RgjM56Hnh0rJOAwOnj9FJVzXCcN4NpvXa9VSybUs0+VGnGWn573eYFxwnI2NFSTk9OzM0BhjehBGnrcIvEXRMhbzxXg8SxUplksr7bbI0slo2Dvvzob9Vq1UKRc1w0Lg5XLVDx+Mp9PRaHRlb+va3p7G8cmLI5vR0+5FLFSx1mg0O612+/TwxfnRQRDFtWpl7vnxs+dhmnFO/TCybeve48fvffCdxbQPwHvDgaHxu198cnx8+s3GSn/Q82ajF88ej0aT7sVFqVR8591vMM4p12ulumklViEVQuqGMer3nj1/mKZ3x+PRsHdYqVRFlgSL2WI8iGuNdmf9+HB/Mh5mGb44OD4779165dYnH30cpwI0gpdTb7+qw3Lil0CaZrOZV3QskIhSIiW8s7I6HIz42chxjbW1Va7pSoliyR6Pxl9++TjwFqZOV5q13mg+ni4oY7phUE3nnLvFgqXwyZPDyXjy6is36rVKt9sTadJptAxDl0oxCtVSYTEbPd8/PDy/4Kazc+1awTbTNE3jOAm9MI5btVqlVkWCmRAiS6fTaZyJm3sbr9y8JpRc+JHGqRJKKtIfTafzRWd9p3t25s3nUmGSiakXLPzALdiD8fTVm1cFwud3H+9cvW5wenJwUG+terPpw9PTp48eN9ud/mBIOT8+OT+/GB6dDUulU1Njvd7AdYtA1PXbrxu6kabZ6enJyurm5x//zXw2ztJkNDgHlbVW1jjXHdudDLvNlU1EBpT1Lvrn3dHBwZFbqp6enr7+1puffPzpsnHuckQDLsE3uMRBiVIyjBJbY0opKZEvFv7B8TkBVauVbNtAJTmlceCNBoOLi1631+vUKq5lnHV7qVBXd7cazXq9XnMcN4rT5y8Ou+e9q9euNBs1jVPbZLapAcGLXl/X9VazkWVq5vlnF/3pfH5tZfWV2zeAsjhOKNOiRDmuW6yUNcs1rIJBiD8J665Td21O1HjmrW9s1hrT9bX1F4dHiVBbW2vj8fjP//S7geevtupExlKm44VfKZdr9XqlXLr/ZN+x9OFk+malPOpfOKXKkyePFJJBv5+kAoF1u93tnZ1e72LQG+imaTKlGMxGve7R0zhcnB09QYKM6RfnJ53O+vnpIVBVr3eKjiEFLKYjrpnA9DiRx4f7tUbn4vxsvvAn88gplOazhWYY84V39fr1Z8+e53Li/Iqzn+D9FP4E950p1PMbf76896DXG2xvru1ub5TLRU6pEtnB/sGHn36ZpXHVdYqu8+zofOYHrUZDKHQKbibw4PDs/KwbxvGtW9fXN9brjZrGuVTIWS5tV4g4n89Mjaks40BW282b168s5rPpaDAbDU3TjLN0e3tr68oe04xUSJ3zyWxGUBlcIwQ2NtcpAGH61Rs3LsYzu1RN48iXorO+9dqrbzy9+wmicsvVStudT8fHp+ftdqNUtMej0bvvvX3/7p16rf7e3vUsSX704w8X87mSWX4Do+/5cRhYJm/UyyqLi27Z1GG8GGciG54fSiEKpQrJwlF3v1J0kMhS0SblYuhNvTCTQIejSUkQdnZUcEvrm9vF+Xx497nvx1zjhmEMR5POaqfdaQ9GU67pCpHmMsTl3PvLae1LQhiEIhwI7110/SBKkoRSyrmWxMnx4cH52Znve0KkrmMrJAs/LNjWa7dvWm7Rsq0sk6PxVAhx7drea6+9WnALURTOJpMoDEyNKyVdx7JtZz6bkBSiKCyXyxsba65t3Lt71/cWN/b2fN+rVCudtVVdt2zHjqJ4OhnJLPX84Hw0KVWLYRSXq3Wr4JRY4b333//o40+4TDzKRnN/Nrh49uJASUG5NpycOY5DCGVcK7lOs9mMwvD0tAvc/vizL2slO0vTolvgjADB0PNmsxlKub7aMTQuBK1UKqOLszSJEIlAiOK0VEaN0SSObNsoFotRsNCcSpKp6WxONZtzlqbxdDLSNa3V3GHdvm50gyCs1BujyaS9sjIYjButdpyKKMlejibIW4zyFp+lV0JERKFQAuGubRUcZ6XTpozlLWSEcq4ZjXq1VS06ln3WG0RxtLa+6pbLumHqusFoVrC0dmOz1emkWSpEspjNxsM+yRKNkVG/ZxWKjKdS0XngHZycn1/0syypB3GpUrt65RpV6cJbVKuVeqOpm1aWJnHgT0eDKAx930uSZDAa/s33f/jNb35LN6zBYOR5gcZYdzgxLavoWM1Wq1KrLWbTw8PDStFx3cJoOPEX887a+o1XXvveH//R19575+ise9GNnzwcnHX7r9y6onFWrZSjMBZJXCoWY38ahb5bdNMkSuKQc40AUgDGsjSJucbDMByNpopQ13VlGmWZdCwjTtN6baVYqlqm5dhmwXVn3nGhWCXUCMK0WqtHSVquVqfzWavdPjvv5q3qQJb8ORKVqzpJflsSAQUgCfIkk7u7G3t7u47rAIGCbe1sbYyHo5nntRq1OIq6/aFpGVd2tkuloh9Eo8FgMh41GvXdK1c51+Mk6p7PQ8/rnhx5s0l7daXRbIZx9PkXX/jzBUUZp+KiP5gvvA++WWm02gpx7gWMa26h4AeBmM0pitl0Op17jqkXXKfgmDub65btPH36+M233y0UXH8xM3VuW9W9rfUoDLlhFsqWIqjp+ng0aNfdzTdvnZ6ebWxuPn708OqNG+1GI1hMz/qTp88PDdPoD0f1erNcLi7mU0aJbVsynkcAYRASpRhnVKFm6CgVUAiCoOBYumkSQmbTmWVZKKRlGYxCs1Vyy9VqrcO5pvIRAaDZxTI1zIXnGbbjRWmlXA6jeL7w2u12vz/MezoBeI5IXwJC+eWThBCiCOX1enVtbSWIo0wp1y1WSm6SppkQjMLB6cV0Pq/UqjevX2+32qZuBEHYuzhP07RYrmQSKcOCY6PIIpTz6fD05NSw7SQVB0fHgtC33nqz5Fp3794/OD6pVCqGrhs6X2k3Ho1HSkoCREj0g2Bwdup7C91xGDMr9fo1whzb6Q0nF6OZW3rebDWBUsu2kzgAQjjnD+/f2b161bSca1ev6Ix8/PlDbu5fvXbV8xY6qEqlOhkPW63G8+fPLY0FYfJ8/zwVVOPP4ije3CJhHGWZTOLYtIw0SZBAuVrzvIXvB4ZhaIaRCpUkWaPRkEqlmVCIUibAda4bUpDxeFBvtHXdmEwXXDdNW1DNkISGsaw3OtPpfHtn96OPPjQtq1gqRVGE+eovvY8iy04NJIQgUATgOzub9UYzTjJCqGEYmm5GiaRccwvuZD5rtVfKpXK1WgOuZVKmmQjCuFwu1uoN07RFmoxnQwqU65phWGEY7h8ec920LPvmlb2NzXWDoZJJp17Z3Vxpt5ulUnUwHAspNrZ2rIKbV+rjXi/NsoZjzKaTMIx3trdsk+8fnz18+Kjf77326iuU0vbK2vn5aavdTOL47KIHBHTDaO/ujYZ9SuHF0fnWtVcePHjMKavWW7btmIZ1/cpmo1p8fnTeHc4cxx5PZkKiH4nZIlBSGXZBYzSTwrJsP0ykAqFgPpruXdkNfE+oGIG6pVKSpFGSzOehaUM2mGTZUNe1IEzKtRW73DJM2y3qURwjYX4QcM1gmp5JaDabFxcX2zvbaZoRtWzqBUCC8FUilHcCMcb3rly1rIIQGWMAgL63CAKfUTAMXiuXbt2+DcCRQJKmQRAO+mMhxNra+vrGuhAyjsP5bGYZxunJcW84Rc0aTWe1avXGjRuIajIePX147+jotFZ2y8VCvdFOhHixf+jYJjPNcqXieV6xWCyX3CSYijR2C7blFOJMOW5pOJ4mWebYppLC86Ju9yLN0qfPX3Sa9a31jqlrrWaDyHRtbWWl1bAq7bOT48l4uLu7V2826tXK00ePVlZWTNOwTIPRoziMPT9Ms3Sx8AbDSRyHcRwanLqFAi4SQMUZICpmGEdnPSmRAcwWAWhW92KcZCoVIh4tTNPUOEdCNrd2AViSSMMuKJoRoAqJRJKkWbVaOTs7bzRb3W53PBrX6rXRcAyELdWXgMtbmvClGJZx07RRSdPQUApFkAIULGNjtXN0dOinQRyGtUYDgUZRPBgMp5NJq91ySyUp5XQyno36WeRFKEN/zhhpN+uGaVVrtUKhwDi3LKtUqphWgVAeZTJOEoKk5FqNetX3/U5nxXGLg4vz3kXv6fPDue8Zhrm2vbOxsYnAt7e2J7OFxvVKqaIbxsnxse/5+4cnnGAQhMPRzLBt29DLpfI/+M1f/+TBi3/1B39UcJ1S0b3zxRevvvJKFHq27VYr1b59HobhKFDzhZxNZ/3+gDG92z3knBsG98NUKdQ1DYC4bsEwrfNuT9N109Ami1F36FFGhcQwiIDCbDbXdaPTadcbnU6ns0gwShnjRNOlJVFKlNKnjOu64Qdxs9kY9Ielctl2nDBMKGUvM6ClXBxgObDDW8wpo45lJXGcZ0HD4eD07Dzwg2azRYDGSWJYNufU1HmpaK+urtbrzWK5HAXBJA3r1TLjHCgVQkzHI9fUiExPT48VYqNami38F8enxYJ547U3HNs6OT4hUknCSqWy53mW7Sw8/7TbPTnvDcfj9bX2aDS8cmWvUq3s7mz1e93T7sX9hw+2d3aarebJ+cWNq9thHIdpmsT+2dHh1u4uaBoieqM+ShHF6Wi8ODg8KjhmEixEplZWVhqtZrfXMwrAQXnz6Ww2VYhCKM6JlBjGCdd4JqSSMowSSkFImQrJKAuCSNOy/H6uNJUEwDQNSqFYcg3TLJbLLM68ns+5huTl/BM9ipJisXB6cmQZmuNY4+GovbKWxOIntGmwHFWMQKmu6QZfeAvL0APfC7xA1zljzPO8k5MT09Q37PViuaIbhuM4x8ejg/1927YOD45sp6jruj8fh97M0ijX+NnJ8dl51zAMXWNFx0KAWKju2flFfxgl8e1Xbm5sbc/ni7Pz86JbbAA3NC30vdl0anB26/ruvfv3557/eq1ybWfr5Oiw3x9Uiu7eztbdR09Hkymh0Gk1m43ai4OTN25f9cNQKul7C9PQq7W6pmnXrhw8ff5Cac5kOmk1a3fuP95e75SKpcPjo2a9nglZcEtKZvNZiaEKwtAyzUyk+dUUQizvdwYQQBgQUFJmaUyJsgwtS1OFCjWWCSml3N7cvHHtSqfTBoCFFzBGFCqRZnlPo5RZFEWWqTFGx5NxrVoZDCZhGBZKznzm5eJPAvmozyVaQbnGe73+1uYGAxpHgW1VgdLZdJrF4e7mqh8E5mK+s7Mb+F6ve8EZpQBOwY3i+KJ7xkCVioUw9IGQVr1RLrrjyfj0/LwchKVyRSA5u+j3h+NKtdFodJI4e7F/rHO21qkbOs+ytOCW5p4nksjzPELIIoyPTnur65s7e1eTJDt4/tjUtUa1MhyP4zAouc6rt2785d/88NM7DzdXm1Ecf37/caPd3tq7KtPMsqxXb131M/r84Gx//3gw6D18sn/1yuZ6q3bR6wdhvLK5s5jOC6ZWKdsii1v1UhKHQZTSFJDRfIKGYxoa54znV4tLx3Uct2CZFmOQpFIAFxKKRbfdatuFwng8ni9ipCZi3lOaZlmaZXGaJCiFYWjDKI6juFgqzmeL9kqbcypEXpTlDdsvWyaRb29tl8rFfADFYj5VWTLq98quK4RCTMvlsmloaQwbaytCthYLr1It7+3uiDQe9hLLKS7mJ0EY1uutRGajme8WS7rlnPbH49FI58w0TKtQvH7tWr1W++LL+41aqd5sXwwnVipWTMvUNdSZaWiOqZdLriIgFNi2o+tZpVKKfO/rb7/23T//y2AxX8wnjHHLMk+7/Uat3GrUp7NFoVgMfJ9R8vbXP6Ca8fkX96oV99GTF0qpNBMUeJrJJAgWfjgYjkzTbDbrqxsrIl60r92IQ29//3ARxIqZfhDpllYq2JxzxzY4o2kcFQpOtVphXC+WS6mQUhHbrdm2U6rUA8/3I5FJPcOE5rNhlFSY39qdxVGoaRQonUxnaxsbUZR6Xui65clkSgghSL+6iJUoROSmZUwno/lkulh4w9FwcNGfeov11VVBoNVsEYTZbLqYTb3F3HWLbqFg6pq/GPuLxXTUqxQtQiSi8oLoy3uPgyhtNBsFx7735AVB1Wk3FWG1ei30F8+ezQCTcqnoBVG/P7h29YqUkjEqpPD8sFytO2MviOLnLw5arXbBtveuXs/i6PmTRzrjfhhbppkp9eZrt46OT+4/OdjbWmnXKo8ePT8+PquUCzduXHcKBQaq7NqMCKUwCuNnL44Gru2YepSIeqMd+/Mo9CllW1sbG9u73dOTOA6cebDwU0BMRBYlmcv5dO416rVSqZLJjDCdci3JEAmTCl3X1TXDtt3hcJwpRvSCAlCE5tI/VPm8AZXEEaOMMxbHsbdYlMrF2cx3HEfTeJZleUmwbNhDohCppvFhv//o0cPBYBDHyWl/OJ4twiiUIjNNyzANpfCiN6RMrzUaSqnJeDSdTNLQsw0eB75IEqXw6PhE17R6rXLR62cio4BJmmWCCIVzP0zSdDyaVIulLM3u3nus60bRdTxvEfieErLeaKystCulUhoncRQcHR09ePjg5OgYmLa5s1uqFBde8IMffzboD69e3d7d3eScPnp2mAhRrVUfP3r49OnzyWRsFwq1WnmlWW7VS4iYZWIwGL84PH/04mTmRQeHp7ZbHE/nQgi3WO5ddA2rYJg2BUjiKMtS29BsUy8WHEQYjaZJmgSeN517R2f9uecPh5PxeHp+ehrHcSakkOgH8Ww6X8xmQmTq8p7oS9hZRGFgGAYQ4i08nXONM8/3HcdGXA7EuLwfRiEiHQ5Ho9G401ktFotxHFs6NzVOCNTrbUQYj8eZyDIhZvN5GIacMyFFqVxutVr5NB/TMqMwGAz6My8IkiRKxNlZjxC2t71TKLgb62vvvPlGrd6OUzUYz8MoPj45T9M0S5N+vxf4C4mqWCo2ahVDY1KptbU1zsHUaZqlp2dnGufXrl4hFKI4ebZ/+L2//lGUiLXVlUyoqZ+udppbG52j0/NPPrvjzWZvv/32ztba3tZqxTUo/Qr1irNMAR1OvUSok7OLRZS8eLEfxml7daNQKDYb1ZJrrrRrjVqZUcI5EKIm03mayn637/vhw0fPB8OhlJllmUzTer2LTIhKpcI5T9M4yxIhhFIin0xCCFAgcRzrGss5mcViUSwW4yimjHHOlp8qnzEgBSrBx8ORxnmlUo6iaDqbZ2nKGT276BeK1dcajVKpmKWJEgIoEVI0263RaDyfz5nMRCriwEcpEFW1VkWqUyLPznvD4dgsuEKh54ftdmtja5tTKJbKURwLSdIsS6LgydMnWZLMx/1qvV6p1grF0vpaxy3Yd+/d3ei0m43a9Ru3CNDJdHhla+Nsb3M4GlPdnM4W5WJxe3NzsfDG8+hff/fP1xrF129dX9vcRkKEVKZprXWaFMjn958Ppp6SCABIYP/goFFvIjP8OBvPQ92pPD843tjclJRZbqlQqadZXK3UptPZ3k5tPp8VStXe+QmTqlx1pwter1Vr9fpkNm+01zTOddOwbWs6D5QQSgghEikSIYSSkqACSoTIdI1zzhExCMNCsaJpWhzGtm0v5t5PeCEipeTPnz/LstQp2FmaElSSEMcwCsXy7u5erVajgOcnR4vFvNNqzAZ9nbGtzc3ZbNa7uAAZMxD9wWg4npqFCgG4+/B5EoStZm13c62zsjoYTNxSUdN0VGJzvVMsuprG690zbzpq14u24UzmPqHGRbefxvHV7fXTUwoyc23j+PR87+o8iYLxsDscjibT+Wi6qNb1TqtqGdR1jGajPpyFz18c6HzHiWLFtNFwsL21DWmwtbVVKpWOTi/GM1+iyjKRJF4YRIZZuDg/Vwo789C2ze7ZaZAI0zB93y9XKv3+bDKLpFRhFGVpLMEv19rz8WA295vtlVKp1Gi0Fn4w6Pconbz6xls5Q57GiTDTNI1FlikhlchQSIKUIEipGGNCIUHie57rFmazhasXKQOlloWAUkIKwRd+/Mqt67u7V87PzwoFNwgDSoEzQKJMwwxDX9e1gqWPh30llW7abqWqm+ba5uZscDrsnTdabWoVe/2RaWgVx+qHfpwk09n8+vUbm5tbXDOjONI4W11dabbEYj5zbdMytcOjw2ar/c47b8dJ1uteMJS6riE5cwpOpkCK7NnTx5btFJziqmlLKfvjT49OzhGIknh2MWp3Vht1vJ/MJeIijOJuL/ADy+rfvrJVcIthFF2/smXb1vPDi0UQUQpSyjAIs0ylaXJ+dl6t1hZeyPuDcrUWeEGvP1RKxHFqGHp+c62uh1ubm261eXp+DpOJYVq9wWB1dePFixe64QCludgtSZI8/5RSSamkzBRKRAUAcRRalrnwAiCYxJFTcDSNp2lqGHoUxnkDEkElhOBB6M1mk6dPn+4fnSyCSNfNeq3SWVkNwjgIo35/cH7WRRG7lj6deZPxEFEKKbe3NuI4Goymm9u1csW8c//xdDYr2lYq1GQRvbu2Ph6PgiAoFMud1VWda0zTqab53fO55z/bH5Yq7t7123EqCq67vqEfPnvS6/Un00kQhK12K4zi2Wyyu7OFRFXr9TAMCJI0yzwvTOKkVim6BXs26huM+p5/4/qV2SLo+qE9mdYa71imaXmLb3z9/cbTZ9VyeTiZB1Hsum4Yy9C3NA5ISJplmqaPJ7P53KvXG5xrs5kHlMVx7Dh2nGQA7NGTp6ahG7oeR/HZedfz/EePnrU7Kzdvv6akPLsYEtAMXc+xA6Xy5i9OiCQEgILMZD7vJe8QCoLQcQqz2cIp2HGc5HiEUiil5AaDIAwNqxAEgc5pIiEKI003Oq3WfD5Dmaw0KhTUYjYOg4Wh85V23Y/Ui2dPk2BacAtpEj95cRQnolGrN+sVyfRytV50LYOC7TidlZX8TgquG+PRUEq5vraqcbq6tuZ7/nA4ZoyPBoPpZBJFocb16awXSzL1gqLr7T9/Umu0hsPhxUWvViklmbzoDZyCTbnWvRj48zE3LMuy1tdW7dHo7Lx/58FTRNKoFqVIV9qNguNubrDrV3fDKCYAk9livdP056Pz/qA/9mvV8ng0lDKbjHquW6pWKlEYKEl8z1eIQgiC6Ps+o7zgWNVadTKd2pb99W98fWt7WyFYtj0a+wpR03RKM0YlAcIUUqkocCBUSoVIOGMKCQJJktS2UdN4lmYa51m2HGOilOJKqcUi2N6tXL92rX9+Mp1OGMXT48P+YHTr9q16oxF7c0MDS6O1amUeJMOpB1QTqTBNi3MtisLuxUUQhqapvzjuum7x/bdekwoXXihYoo/HQmSN9mqxzGr1RhQGIo6USJiMJ6OFAgDKKCpd13r9ycLza9Vac60997zpzAOg3CyEQThbeI1axQvjRRABqtVOu9cfpNHCD1NgbHXtTCaBzkHT+Eef3V3tNG9d2RISNZ0W3JJpam6xhAoXXvi1919Lw0Wvf/HpZ3c0w3nl2ubF+dlkMkWMO602EjcOwzBKR/MgzqRhaIhaKkQYhkKqQsG5ffv2e++922it7B91DcOIo6GUKIRgjKm8x1QpKnh+GylQFkWhaTtRmCAipcr3g6JbmExneXdp3ryoEPntV15hTGMUikV3PnXKUo4nYz+eNQxHiCxNs95gBFkAKmNca61sIDc1TWOggkkvy2LPjwqWgYiLIKLA0kxMF36zVrn38MXqGiRJ3O8PdyLZbnfiOKSMuqXKl3fvzWez1Y2Ncrm6tro6Hw96ShCUaRyGSVIolyzDuOgNdI0Hi2mG1LIdo+gKQqI0S9IECOo6DwOslB1CaBCEjka319qmxucLz3XtJIlPzi78KKbM2Fpr2To1DcMt2L3BUElx9cbNQb8nJb71zptHFfvps2eD/qRg8kajrmmalGru+ecX/ULBWV1dp6az8AJCYHtnb+/KtVK5kmWZQqRMy5JESsyyLJ+NqhSqfFoP5DcaMSFSVIpSAqgAQWRZmqWmaYZhCIQiIaiIoopXa7UwDBkltuUU3ELvojuaTC23fPv27d3dLZEmlr4tw8XJ0cHZWZcAl0yL4nStXZNZSgi4rrvSWXl2dKKyrGDp7WbNNox79x8JkW5urJ4eHytUcRw8evSo2axrXM9o0mq24ji5fv16q9kgqIRUUZJqnKaZ2Nvb5rolpSq51mw+myzKV65enc3mIo2yiwsAkmXqvDdAlUlJVlpN27HDOJ6PfceyCGVvvn776u728fHJZ1/cPTzrK2Brq50gTIbD0WLhX4zndqmGRHLGm/XK88cPN/eura6t/ejf/nA2m+3s7LhFVym8cfPW8clRpVrdunKjtbKdZSKKonqzUyyVx5Pxixf7SHgaZ2maUMqVyDIpRCakRJllSoh8PgClIAhJk4Qyri7nawRB5LpuHMdK5Q0akihGCdBqrVGtNoqlIqMszUS11qjXa9PpzPMChdBo1B3XNU2jUa9VKiUi00azyU1n4cdRGEdB2B+Px3M/TdNqqSCEGo7GUuErt26aptntDaRSm5ubTqFIKa/Uaivr6+2VlSQTz54+ffLk8dPnz3TLBqrNvYBxaprmZLZY+F7Btk4vxlKR7nm31++HYbi2vtZsNimQJIpQYRTFj/dPL4aLKE6q1QrT+NzzL/rDKI4r5eIbr968vrNadrT5bFyt1TudlUajwQghUoyGYwBq23ajUa9UKs322u7eDqUwHPWzTFDGkiy9dvP23o1b61t7mq67rru2vl4sFQmAyFSOWqexbxgsHztPhFRZJtNEilTKBFWSt6cD0CRNpZSXne1EKRXHkWUZy3mSqBCRl0qlLEsZB0SczaZAaavVfv2NN52C43meMA2NkiiKi8Uiojo/OSqUK41GgyDWalUO4vDw2Pf91199lVKoOnp3tDg+78dxXKnPDacgFGlWqoWCWy5XpJBpmqu3PcpodzC4/dobbtG1bavdbpq2kWWm50dBGPUGkxeHZ7ZtjsbDs/PzIAgbzbrrOpbBrl7ZAQC34FRLxScvjsbTebXsKoJREkdh+ODRJEnT63u7H3z729evXb13/77OtbPj/Xq9XnCdjbX2cDiMI73dbi2CJPBmUqHtONs7u0DAKZaUVFxjmq7phsG4bhgWZYZCxTmTQsZxMJmMDV3XdD2K4vxCL7i854Ug5qQM5n0AOfKPRElJ2RKoIASSJOWcUQrLSW6IPEkSSgGVIpS6jqMx6PV788V8ZXXVcRyVpQXbBFmUWZKNxsPxRHGzf3GRJZFK/Sj0gjBa7ax2VtqDXu/Oo+eK6TtbO8cnZ5pu7exs93o9w9CTJFFKev4sSwVQtrLSefTwweHp2Wg8CqOAcy0RcqWzsrCseZRc3d28d/8hoqIA592+UigRrSC66A+jKG616q/euqVp+mQy7PZHUZTMARvlwmqrpTP98YujR08PFn4ymM47zdrO7t501A+Ceb/Xsx3bMphIYyLT+XRCgRdK9ckiDMO4Vq1cvX7D8zzDtlsr65xri+mof35SrrUNQ1ZqDQIQh5Hve0HgaxofjybjyQKR2balaxoAze+8pmI5ajCfuvTyXub8QrWX4zvTNFveZ6IUAuO+N7dMK5DSWyyOTk66/UGtVsvS9Pj4KAzDWqVMiQr8IIoT03LW17d742m3d3dvZ6vV6gQLu1ajg/F43O++ODgOovTWze0sTVZX2mur7QcPHvX7/at7u4RgGAaISqFgjKVJTKQQmfAX3mAwWFtbLxQr7fWt6XxRKlgVR7++vXIxtE4uBkFIbMsCCp4XIBJKGRCqcypVaul8pVV/fnja8+bVsnv1ynazVmk1qgTI4dHp93/w42qtem1nY2e9pWm6FLHjOKZpNJuNQX/w6NGTt997P0nVaDQ2qGx12oxr8/msXXAfPXh467W3yvVmFEWD7qnpFBmj1foK15EyThnLMgmUlsrl2XQhUTGdU40TRhUlmVIMkSnFGOeMiTQll2tPlCIkJYQqRLnETXOiGLhjGlEURgi93gUArHTaxWJpPBqdnJ7t7u4UyxXd1AjB0JtbjjsLstPz3u1XX9vY3csi3y2VRZrqhu73BowxqdR595wAvX71ytOnj7sXY86o7/m+Ny8UnHK51u9fxHGsG1aYCUTy4w8/fPvtt5RUs9lsZW0jjaP++UmS4Ruvv7YyHDnOwelFbzrzGGNRlBBEp2BHUfyDH33sOGbRLVy/uuNYxtzzAKXneW+88cZ79VoShl9++eVi4S2iRBEQoClCdMMYjae241QqlUql0mjUAm+WClp0zCiY94ejIAhdSw+jeDQaf/bxj9dWOoBi3D+bzxbJ9du6aTHNEZKUiuXBcJimmWXozmrbDxJKKdN0YDwHo/ImX8oZFRpCpJREICByS2CXIFy+A5lCBEL4oN+z7EKcZIZdqDfZYj7LJJkt/FKxvLa2LqXwvCT2F0EQnp/1jnuDnavXavVanCT+bIpSoJJzL0CqVYqluRe0G435whuNx45TuHnjujefjieTth8Ww6jfHxi6bhrGsD8uOc6JFBe9nhBZFIeuWzANY2Nnb2VtI/LnSbgYjSftRpVRiOLjIIylVLZt+X44n3uWaVSqW51Op9FsEsTrhj6ZDOMg5FxbzGac0XKp9LV3Xq/V64cnJ4+fvthY65Qd69nTp+PJ4ssv729vrqyvrx8cHpqmbRp6pVKN49QPE9/zFYFgMdGZkkm51m6Xqo0wTDRD9xYLzUQhlaZx1y1kgiaRB4S5BVcSoEwjwKUCLRM0TuCrAZ+A+Q1tQKUEdSmWRqXkUpdFM6A88GYaBcZ1SNVkNJxMp14QcK7dunm717tYXekwRmfT8XAwuuj3t7e31zY2FvOZW3DCKFIi6/cHQiIH6M1mpXIlTtPj0/MoSX/9134ly+Jn+wdXr16Lk+zx4yeIanV1reAWmq325tbW8em5F0STyUzXdV3j52fHQqosy2J/FoXBIvj/F3Vmz5Fk132+a+5L7VXY0ehl9hkOxxTpoBgKh0L/sJ8sKxRSWJZsSiY5Tc5wutHdQKEA1F6V+3J3PxSaeqiIfKinvJF5T97zO9/XRN2eHwZu4H24fdzuM4RQ07QAACHEm7c3YeBPBt3JZJKnuygMtYHXP/3ZIsjzvJu7u6xoR8eno25vn5RcmrJpu4PRzc2t51m2RZumAQBSilrOLNcXim1WmzzZ8qawLQxBp+UMUcd2OwDzpmmKovQNato22W3zomQcKm04Y4TY1HEQJgBCjDQ6mFEB0FoCAA5ua6MPbKuDfuGJwayNBgBowxUERHJ+O70ltnd0dGxZ1KHEjuOTi6uXr14RQgjGxX5T5+lqNa/qajq9S7LMdWzB6qPJ+Ob6TV5UhNqzx/kuK/r9ftW0nu99/sXngR/M7mfa4Cwr9rt9FIefvHrl+Z4U/H52/+79B8/zIDDb3XY0Gq6WC6BFlqYaoDD0k7Rwgtj3XEqAbVsAYkIeGBPdi1MAQF3Xrk2S9erepS+fXzq2/eb2bvq4eVhtnz87/fnXX0zvVx9m8/ezB8+2pVQP8yWC4PLyAkLTiaKiyAeDvpSirgVC8Prtddgd8rbxXavIM/9oAjFtlXn79u1mX3pe6LpOp0PjOPTCbtvKvNZCNQAhDCBEmBAKMTVAQYSeyFjGaK0BhBBjA6HWBh2Ono0+NCOhMeBA0kUAKH4Q00rG+N3sTirNhORCZlkuhDw/PyfIvF8u90lalhVr66g3AAAWeW5BUwX++Pg0r/jN7XT28GC5/na3S5J0OOgdjUbL1Wa13hkDyrJmop1MxovlIs3SOAruZ7PFarXbp/v9/t//43dty169vOKsXW+T7W4nper1u2lW9LrRdrP2g6Df67OWJ3n+m1/9Ii9yxjhnotsJXr14EQRekuyzol6st5Zl7dPyv//9P+d52TT8cbmFAAyHg8C1EYKzx1Xo+tTxCDLAAM5lXuzCwMMYGCUn4wECAkAopF6utqduxKXBado0zWg0dD2fWi5vuIEQUcf1SV1WWh88LxgiDLR+4j0C/JT+NE8AvP8cETiMaj8thgFGG2U0AOTm/rHT6YZh1DDe6fjAmO1mW+T75XLu+47vOkIbqcFw2KeWpZVCECVZLrgYjScnp6fT27s8z6RUoiwt2w6DwACw2W76w3G3199t97OHR2O0FPLq2angPN3vfnzz9uFxsViuAUB+YCklWNv+8OOfHx7nu32CMR4N+1ob17HG4/F09qg1GE0mZ+fns4c5Ruizzz/t9/qMlVEQxFEEjfrqi1cV4zezRZbmQqlDtXfo+C0WK8uynj27KKvGsojtR4ZXQpnReLxYrpUxSgOtOCU2QlQoMxyO2lbMbj/4cd937fOT/uXVM4ho07SbzQ4AQwnhTEL4sZAHh966PrxzEMQQUQCYMVJ/tGk+3W6D4V9oewcLngEQGNLrduLQD6JOWYuqKpSQ4/Ho9OzM8bz9ficC33Hs8XiU7TeMiVVWYsdz/ajTjaM4ZG2NMXr+7FnZvm24QBBRarWMf5hOie3FURCHwfGE/e77P87uH7qRf5Pf5llxO71jjNm2rZSuqurNm3dScK01ocQYwJhgjDuubbQCxlCCLUpF2+6367fvp0LIx+W604kGnbhlrZFCCLbZZZtd1jJuIMT4wBCkxiiCoNagatuHhwfHsThrxsMBEKLgbdMKbLuTyfju5sbzvajTKfKcs3a73XheMOhFcTf88svP4+6gqFi5ToMg2q43WoNe3OOtMI6r60opLiVHAGhttJbKGAUgNAQCbAw/sMQOQrsDlRk8QYWV1tqoA0kdkG+/+rIocq5gUxdVmTuWhQnJ89zxg1evPmub8ma3LbM0y4r3t/eT82fPr15WdT3sRQQjDYA08GGxKqtaA4SxgQj3e/22ZRCAbtTp9bvaqNVmPZ8v//TjT5hCJVVRlFJKALTneUar+WKZF3m/17u6ukjTom1ZkmaecLMsRxAqpfK8KMqiqpqyapVSf8rfUkI6UVCUZd20xkCEUScOB70eteh6vR0OekEQLhZzgiGCyLHpwRdeVdXj4zxwsefYi/WaK00tVxlQlmXo+xah2EdCSWrhTz/7zItjy3Y3SbFabf/0x9e+748nx8+fv5S8JlBVTSVYowGACCOilAZCcCm4VlxroY3Sh0lUKSAwRkODEHz6GDYfQbZPAXXSNPV+nzp+3I3DUTe2LCsvstl86Qdh29RaKYxpXjRJkvlhaDt2WVenJ6dAtdPbG89xiyzZ7vYNY2dnZxjTOIqHg/5mu5/NppPxKI5jQvFvfv2rN2+uP9x8KIo8joLxeIgR2ieJY9vasQAwjPE0y25uZ7ZtNU1TVYxzoZTSWoVBUNUVQphSy3GUVoRx0TQtYzwMg4uLIdDGsdBoOPBdxxg17ARCKYJAL3KlNgCSlvFRr7NPklG/17Qtxk7kk9B37xbbh8Xac4jve3mehlF0/vy5lkIbNTo+Jk7n+vr2dnqX7PdVVWTJ3vM8IVWRpHVRsZrXdQMx1hogjKUBLeO8bQRvhGyFaKVgSkojFYTQkL+Qaw+HcgAiAwEC2kAASVUzYrud/iDwvXS/3W+WGEPXsl5//31d1998/bVSqqiaomogxsNBfzgYIATyvGyb1sK4G4Wu71pNY9uO67pnp0eu6xXlbL/f79N93O2EYfjs6nm/P/Bs8ub6mktxdno0Gg0d25KC//Dnt7ZtPTwspFRJkh4djduWsZYfUkMAAMYl32fDQe/Fs9PVdqeEBgD0e3G/2z2/OMcACN4ku61Uaj6f93o9StA+TSBEjkWF0rbjNowxqc7PzjCGLMnrRpx+e6UxaaXMS5YWzdXZ0dn5KUJoMBo7rsOFuLlbAJhkeRn4ruSuReGXX3518exVWbXLxUJrg7DFmtIALIQCCGttmOCs5YK1grdSMCGYkhyaA337wKEn8JAL1Rp9jEpDAAlj0vacuNtxHXe1XiVZJRlrWKukyNLk4f7BABPHUVNmvu93uz0hWJ4nnkUcx9ms14vVJklSKVWSZG0rVt6GkEQbYzvuZDzx/GA0GlOCCYbffPN1kafAqIpJy7KjMOp24m5v8L//9d/CMG9bBiGqqsaxrQJDzgVjGkIohPJ8x/c8LtTl6bHn2IN+7+svP0UICmmMAYuHh/vZ3Wy+blp2M982rbAsalF8NOwJwcq0cFyvbUVZ87LIKCVJXnx4fzMY9X/2ZfQwX07vF5igydEYU3swOknTjNr+h59+uLu9GfQ7f/M3/2272xV54bo+hKDKUwzVfP5oOR7nUkhFBQeYKg2kkpwLybnmTAmuhTRKAYQAxgjhgz8SQgiMRhCojyMbBgByd383GI78OFnx1XK1gpRiA+pkjxGihBxA6ZvNhvNWSXb942sJUa8/dIdDz3VKBJIsgwgDIBFCTdMURe26jlbKtu35Yt0fjLTWSmPb8eq67oTh/fyxqCovCGzbAQh3Or2fffONZdtlUXHBMYKff3Y1nT4WZZnnZVGUGGPWsvc3d+dnJ6enp6+eX/iujTCp6vZPP/yYF+Xs/iErW6XBZl8c1Fkt465rr/d5GEX5PleqxJgyLlzHwQh/+fmnghW8tv0wGvRiaPR2m/zzP/2vz778ap00RcmXy+V+n0Agu5HHWAMh/nBzM7uf/fKvfi24MAZGYbhYLbQ5iC80Is5BNXvYdLXWBxa0AeZAAH0KKD2lIYxWB4+AOfyTFFkKMW6FNBAapdq69GzLAJCmWafXT7K8auq6aQixKDrwQNHR0Ukc+m0Ber1Bv5/ljWrYpm0bANB2t+10Yt8PLi8vXzy/fHx4WK9XF+fntx/el3laMeb7Qbc/oo5jILRt+/Xr77UB33z9TV1XhCDHsYaDnmW5YegvHuevf/hzmhYY404cQYR2u92dhRRjFKPVev3ju+k2KRDCtuNyxtqW/SUCLqXe7NKq4YdzMMbqsqrCMJQujeLwdHJRFoXtB5bjrzY7TaxaqOub2fj4xWKx/cPv/q3biX75i+++/OprTJ2iZOPJ2Wa1eHf9DkMIpGZNA7URnGkAAUQ2IgCSw56KIMAIEYwVJkhJJQVQWmONtNKHr4KnSVVz2BAMAEQKvl6t2se563lH45FWvKkYb6uqKj98eHf/+Hh8cnZ0csqrsilzYjsvX35yeXm1fJiulss0TVbbPReCYIIQ0tpEUVSWFSZ2EERpmlFqUUrev7u+u3tYrxe2TUfDARf6ZDT2fS9P957nQgARNEWRaa1t2w788Ltvv12tV3EQxFEIMXQsGnpOUdXbXao1DoLg/u6uKMs4DNKiltK0TS2EfMoeAwAARJgqpau6QRD4QSilMkpoLXw/2u63R8dDaHurbXH/8OB6Xi8K405/uVr90z/+z+HoLIo7FoWeS2zHzstGa11X5ez+oSrqvu8CrTGhhjHNmSZEK2mMQRgCiMFBBoOgBlAaA7UEUmitoVbGEPgXmRoEACJgtIEQGEMeFitp4LPnLy4uzzthWObZZr2USkWhjy1XAQgMcGyHaimavCzy3XYXRd28LBljaZpyLhzHpi0rijLudCmljHEI4W6/Y8wfj8cPD/Pp9H52/5DnCUFwMNz83d/+3eXlRVUVCHRXq5XjuI7nXl4+m05vu92u6zhFnvG24m2T7rfdwSiMYgvD4zimll2V5WqdKq0BAIFLB52gZsIY0LZcKi2lOjwCnLGPI7cQI2xZFoTm5Hh8cjRGCHKhlSFFnjpEEyg914KIbHc553y5mHU68enJKI5Dzupup9fpDkajsWVZy/uHfJ8AYABABgBoDAJPBnFCLACx0gBgbTQ2EEsAqJIKMmPkU+EJIIQYAICAMR8R8QYYgikd9gaTycR3fSkEoWQ0mdRFKUQ+HAy8IIzjDqU4LaRBFCDsul7dNBARqVGW134QJEWBEbItOwwDhBAmJM+L5WJ5dnZyff3+hz+/1Qa2TGits7IiFC9X8yzfBUHkOs7F+fns/uHu/u7Vq1d//de/McasFvObD9fHp5PVInn74a6zz+8fF9vtNg59wdnJyfFoOAD9bllkSZohYMqWSwXyqhEKZFmhtYIQBWFQFjkAwLZtz3N936vKdDzs9npRVVZ1WUa9vuLVJy9fLDabxXJLHVmWdVXVrmtBbZ+cTMJ4mKQpRPTs8lNC7dOzy3c/vX392/+z36z1oRSDEEFEiGVRm1AbYSq1AVohRQDEyhglJSet1uogEHsScwGozUd3r4YQAHJ5ekwsBwKQF6UU7fHRyAje6URVXWMABoOBNqBtGm2ANmDQHwRhmCY7ikCRF0VZO0GAAMiy3ACopep2e5zLlnNEaFk1+yQL49756URLvlkvm7b87ttvAt8TyqRp+v3tzfnZaZomvu/3+30I9fxxNhkPT09+jTHWjA/u5/PlBqJ9lpdT8RgEfn8w/t0ff+JtdXl2bDt2aJQxOs0rBAAE2rKJVggAQyn1fR8AHcdRFIVh4FLUCzw7jjqdqLNer5QBQunr27ui5Ott0h9oiG3fDwc95xff/cxxnO0uberS92OIgOv7CPO6qsJu3wCQ73dMCgMhxIQQ23I8YrsA4YP3DkljoCU1ZEIgQoGSAD21yRAiAAJoDNKHNUHGGKIRhZjmRXF8fGpsYgAUyth+1B1oy3OjOMLEWq2W2hjHInWRzh/vXdeTktkURbHf6w9dz5vO5toYalmPj4+M88FgcHpystvvq6r55JMXvTiaP96fnUwQAhjCu9nMD6Lp3fTq4oJSQm2LYPSv//Ivl1dXCKGyrPqduChygkC/Fy3WSdNy27YQAm3L3ry7qZum342KsqmKhHOmlQl81w9xXjIAgOt5UgjbsSsjPn31yrLI4+PjoDcajwZ10wJEqUVdPyaWW7W6qtIsr7IsL8u61+s9f34eOBBApIH1+k8/7jYbpfXF1SeW7dRlXab7KtsryREh2BiFEcIYIYKpTS0HYqQAQgZBqQySUkPGOCOVlAKCj5bkA6kVAAkxhE8KbDKbL8KoQwgJoujk6KjXjbVWaVYQagEAkyzv9wbPrl4k23WebFvGEIR1XSveFmUZ+AHCeL5YSiV9P5xObwixfvlff42gEazdbbdtU09Gg343TpOd77tH49Fi8Xh2eh5E8enJies4WstOJ55Op1EUlUWxWC7Ho8Eu3EupPMf/4osvzs8vf//716vNrioZIVZV1VVVWZQ4WPeikJCu1kpIVbccA9UL3eOT41YI34/KIgGaj/pjx8JtWxdlvd4kx8RRylRNW+12ZVVzLhhjEBqgWTe0zk6PeFM+PtxbXtnUfL3Z/fbff//JZ18PJ+dam8HkSAqx26w5F0hrgxHGBGFCCKGWBQklgCgDEVYQcSEEJhamFuHMHE7lnkb0DsZAbQACWkMAiFRPfC3WCmrZnMtkt8EYY4xcz/M8zxiz3W4AAEG336MW46JlbVaWdcPDMORctG1LCDFGl0V5dv7si88+n97dzBfzmw83z1+86PV6tm19919+3jbVerkIowggHAQBY83t9Ha5WnHeNg3DCHqe17TtaDS+vDgnli1Za9s0DMNJP/rDH/5wM6V1yzUAVamlEJbT94OYsYpatufbBhYWtQhGNjLUoeNRR/XD7Xa93a6xZT3MN3klwsC7n74L4wGhlNWF51KLWsl+34m8TuDGvkUJvPz8u9//7v/+8fVrAzAhZL5Y/MPf/4/BYJKnmeIi7g4MxNLMuZIfXWcGQoApwdQBkEitAULKKIwJwRRjCxGs5KHohBjBQ8cGfVTXGaOJlLrX7QRBUFXFdHp7NB42TbNer1vGl5ttUbNut1c3tefaoe/N5nNMrF63W1cVBBohA6QmlBKCD0s1HI3Kqpjdze6md1KqZ88uoii0LDq7uy2KPPB9KUTTNIv5/fsPN7vt9t2HW6NNURaWZVFKR+OhAdiy/SD0lbCiKIZaPn9+FXrOz77K33+4+f7H64M5fDg+0bJCCLOmHQ4GnucoDSCEnThWQAOj67bxw3i/3xdJKjijBDm2JRkUbRl4A8emUjAEzNnxMPKc4XAQdTpcientNeMCQw2gcfxgNOz5vp/sd/v1JpkvsiyRSkvBDw1wbQ6/p6Ffc7AwAGUAONinDvopjfRTWgITiAgAEAINgAQGGqAJALBl7Pz84vz82X63StM03e8hwlppy6K2beVZvlgtKEEvr66CICCEAmCCKHAs/OLlq59+eiM451xwLrQBGOE3b64Xy3XDmG076/UmzXLHonXVbNab149/AAgjBG9vpxBCIXjTtHleSikgrDHG3W73+t07Y8zJ8SgMXKjV+uHG831o5OLxnrHG9xzHaYPA91wr2e+VUIhQBWAYhVXVeGFsgFLKdDsDBZKyqjudfhT13P2asVpJmxJkEUOJsSilhGjFzo6GGILxZCKNyje5kuZ0MpwMIghBrz8+u7i6uHrl2D6rqtyiWuuqzAQX2gBAsMZaSSGFkEJiqv7TxMm5khIYgxBGGCOjIMIGYQDxR0+XeapCASSDfvf06MgYsN2uBWeNlJ7nO1ovF3MniB7nj7vtHkD9q1/+VX84yJMkSfbz1Sry/fFouN3tkySp69p1XcuybMcNw3CzXh3gj998/dXR8XGSJJ7rCqnSLN2n+Wq9adsmzwshBIAQIySl0FpTSj3PXa83ZVkaozar+ddffYVjDREusmSzXiJCe71+zfXdYh9HUa/bqYt9wXld1pg4XtSv2cay3fXjh7DTUwYKafa7nR/4o/GZAaZpKoyR5dgEQy2163qctY5tWbbdVNV+t7MpDlx7MDpyfX988qwq025/cHr+otMdLedL1/WCOGrrSilV6EIJqaUESAjJuWgtziCmACihFBdCMC44F4oZoAHCEOKn2/2kM9cf9cJaA0MY49dvf6rq5vj0zPd9oJVj0f1uXZTlw2odxZ046pyenFyeX0wmk13oYYLv7qbDy4vxeAIMAO/eeZ6nDMzS1Ha8+WJeVdXz5y9cx769vW2adjyZuDad3c8+fHifJMlul3zcjpDWSuonq4SUMklSjEmn02VcPMwXdZ6M+vHLq8ssS6u6nkyOlFJu2Ks5NAZQQuJOZDn2li+T/XqzWxdF3S1yI4SvTJbupTKOF7mez1hNMOh1e03TlHVFESROUFU1Z6Lb65V55jgOwlhKMRgOzp89I5bt+UG323VcLwgjQu39Zj17945QQim1LAtjyjnXWmspsWC8aZndGEQMQEJpxsVB6CslV0qCpxSQOWh6ANCHlOLhAgJAWsY9Lz4fjaqqEZw7rgMKbQxwfS/sdPv9IbXsi4uzosghNEmSzB/vL85O6qp69+7acZww7gyH/O7+vm4agChj/OXLV0eTyX/8v9/Opvf3s8e4EzZNVVW1lEoIpvUBmw8PbTz9cQGMMZ7nUkofHx+TZP/zb7+B1Ak7vXfX18bwTrcHjK6qWgp5ejTYJYlUglgWaJjn2v1BV2sgpUqzrNuJmdT5fqM0zMrK811KsBX3ttudNlAZHUW9suZcyqphOM8xABgDi4AgHrG2Stbz7vioqTOnN7ZtGyHKGSOYVHlW5pnj+VqDj8lOo5XkvMWsRJVtIDQQc6U5V5wxyVslmZJcSamNAuhgzDPgaTmA+Zib+/9WsFAlfMGwjwAAAABJRU5ErkJggg==\n",
                  "text/plain": "<PIL.Image.Image image mode=RGB size=128x128 at 0x7FB6DDDCA610>"
                },
                "metadata": {}
              }
            ],
            "_view_module": "@jupyter-widgets/output",
            "_model_module_version": "1.0.0",
            "_view_count": null,
            "_view_module_version": "1.0.0",
            "layout": "IPY_MODEL_f00d4c23fc3c4b4f94edce469bba5592",
            "_model_module": "@jupyter-widgets/output"
          }
        },
        "b59c383146d742cba35bf48bfffadd94": {
          "model_module": "@jupyter-widgets/controls",
          "model_name": "LabelModel",
          "model_module_version": "1.5.0",
          "state": {
            "_view_name": "LabelView",
            "style": "IPY_MODEL_aafffbe59f964155bdf394f1d7bf7573",
            "_dom_classes": [],
            "description": "",
            "_model_name": "LabelModel",
            "placeholder": "​",
            "_view_module": "@jupyter-widgets/controls",
            "_model_module_version": "1.5.0",
            "value": "Prediction: teddy; Probability: 0.7401",
            "_view_count": null,
            "_view_module_version": "1.5.0",
            "description_tooltip": null,
            "_model_module": "@jupyter-widgets/controls",
            "layout": "IPY_MODEL_a32844d9ae004f7c8f3c59ac30da6f71"
          }
        },
        "d2d98ffcdd9940408fce3bf3a85edbb4": {
          "model_module": "@jupyter-widgets/controls",
          "model_name": "DescriptionStyleModel",
          "model_module_version": "1.5.0",
          "state": {
            "_view_name": "StyleView",
            "_model_name": "DescriptionStyleModel",
            "description_width": "",
            "_view_module": "@jupyter-widgets/base",
            "_model_module_version": "1.5.0",
            "_view_count": null,
            "_view_module_version": "1.2.0",
            "_model_module": "@jupyter-widgets/controls"
          }
        },
        "21b43d68fb844eccbcf7437dbe0ca27d": {
          "model_module": "@jupyter-widgets/base",
          "model_name": "LayoutModel",
          "model_module_version": "1.2.0",
          "state": {
            "_view_name": "LayoutView",
            "grid_template_rows": null,
            "right": null,
            "justify_content": null,
            "_view_module": "@jupyter-widgets/base",
            "overflow": null,
            "_model_module_version": "1.2.0",
            "_view_count": null,
            "flex_flow": null,
            "width": null,
            "min_width": null,
            "border": null,
            "align_items": null,
            "bottom": null,
            "_model_module": "@jupyter-widgets/base",
            "top": null,
            "grid_column": null,
            "overflow_y": null,
            "overflow_x": null,
            "grid_auto_flow": null,
            "grid_area": null,
            "grid_template_columns": null,
            "flex": null,
            "_model_name": "LayoutModel",
            "justify_items": null,
            "grid_row": null,
            "max_height": null,
            "align_content": null,
            "visibility": null,
            "align_self": null,
            "height": null,
            "min_height": null,
            "padding": null,
            "grid_auto_rows": null,
            "grid_gap": null,
            "max_width": null,
            "order": null,
            "_view_module_version": "1.2.0",
            "grid_template_areas": null,
            "object_position": null,
            "object_fit": null,
            "grid_auto_columns": null,
            "margin": null,
            "display": null,
            "left": null
          }
        },
        "7941ac90c859428a8f080c95061e2a73": {
          "model_module": "@jupyter-widgets/controls",
          "model_name": "ButtonStyleModel",
          "model_module_version": "1.5.0",
          "state": {
            "_view_name": "StyleView",
            "_model_name": "ButtonStyleModel",
            "_view_module": "@jupyter-widgets/base",
            "_model_module_version": "1.5.0",
            "_view_count": null,
            "button_color": null,
            "font_weight": "",
            "_view_module_version": "1.2.0",
            "_model_module": "@jupyter-widgets/controls"
          }
        },
        "047d6312b99844c99318b02b3f7d84f6": {
          "model_module": "@jupyter-widgets/base",
          "model_name": "LayoutModel",
          "model_module_version": "1.2.0",
          "state": {
            "_view_name": "LayoutView",
            "grid_template_rows": null,
            "right": null,
            "justify_content": null,
            "_view_module": "@jupyter-widgets/base",
            "overflow": null,
            "_model_module_version": "1.2.0",
            "_view_count": null,
            "flex_flow": null,
            "width": null,
            "min_width": null,
            "border": null,
            "align_items": null,
            "bottom": null,
            "_model_module": "@jupyter-widgets/base",
            "top": null,
            "grid_column": null,
            "overflow_y": null,
            "overflow_x": null,
            "grid_auto_flow": null,
            "grid_area": null,
            "grid_template_columns": null,
            "flex": null,
            "_model_name": "LayoutModel",
            "justify_items": null,
            "grid_row": null,
            "max_height": null,
            "align_content": null,
            "visibility": null,
            "align_self": null,
            "height": null,
            "min_height": null,
            "padding": null,
            "grid_auto_rows": null,
            "grid_gap": null,
            "max_width": null,
            "order": null,
            "_view_module_version": "1.2.0",
            "grid_template_areas": null,
            "object_position": null,
            "object_fit": null,
            "grid_auto_columns": null,
            "margin": null,
            "display": null,
            "left": null
          }
        },
        "12a634f21249413192b397d069a58cb2": {
          "model_module": "@jupyter-widgets/controls",
          "model_name": "ButtonStyleModel",
          "model_module_version": "1.5.0",
          "state": {
            "_view_name": "StyleView",
            "_model_name": "ButtonStyleModel",
            "_view_module": "@jupyter-widgets/base",
            "_model_module_version": "1.5.0",
            "_view_count": null,
            "button_color": null,
            "font_weight": "",
            "_view_module_version": "1.2.0",
            "_model_module": "@jupyter-widgets/controls"
          }
        },
        "d4b660b74d914bd083e515b627c694a4": {
          "model_module": "@jupyter-widgets/base",
          "model_name": "LayoutModel",
          "model_module_version": "1.2.0",
          "state": {
            "_view_name": "LayoutView",
            "grid_template_rows": null,
            "right": null,
            "justify_content": null,
            "_view_module": "@jupyter-widgets/base",
            "overflow": null,
            "_model_module_version": "1.2.0",
            "_view_count": null,
            "flex_flow": null,
            "width": null,
            "min_width": null,
            "border": null,
            "align_items": null,
            "bottom": null,
            "_model_module": "@jupyter-widgets/base",
            "top": null,
            "grid_column": null,
            "overflow_y": null,
            "overflow_x": null,
            "grid_auto_flow": null,
            "grid_area": null,
            "grid_template_columns": null,
            "flex": null,
            "_model_name": "LayoutModel",
            "justify_items": null,
            "grid_row": null,
            "max_height": null,
            "align_content": null,
            "visibility": null,
            "align_self": null,
            "height": null,
            "min_height": null,
            "padding": null,
            "grid_auto_rows": null,
            "grid_gap": null,
            "max_width": null,
            "order": null,
            "_view_module_version": "1.2.0",
            "grid_template_areas": null,
            "object_position": null,
            "object_fit": null,
            "grid_auto_columns": null,
            "margin": null,
            "display": null,
            "left": null
          }
        },
        "aafffbe59f964155bdf394f1d7bf7573": {
          "model_module": "@jupyter-widgets/controls",
          "model_name": "DescriptionStyleModel",
          "model_module_version": "1.5.0",
          "state": {
            "_view_name": "StyleView",
            "_model_name": "DescriptionStyleModel",
            "description_width": "",
            "_view_module": "@jupyter-widgets/base",
            "_model_module_version": "1.5.0",
            "_view_count": null,
            "_view_module_version": "1.2.0",
            "_model_module": "@jupyter-widgets/controls"
          }
        },
        "a32844d9ae004f7c8f3c59ac30da6f71": {
          "model_module": "@jupyter-widgets/base",
          "model_name": "LayoutModel",
          "model_module_version": "1.2.0",
          "state": {
            "_view_name": "LayoutView",
            "grid_template_rows": null,
            "right": null,
            "justify_content": null,
            "_view_module": "@jupyter-widgets/base",
            "overflow": null,
            "_model_module_version": "1.2.0",
            "_view_count": null,
            "flex_flow": null,
            "width": null,
            "min_width": null,
            "border": null,
            "align_items": null,
            "bottom": null,
            "_model_module": "@jupyter-widgets/base",
            "top": null,
            "grid_column": null,
            "overflow_y": null,
            "overflow_x": null,
            "grid_auto_flow": null,
            "grid_area": null,
            "grid_template_columns": null,
            "flex": null,
            "_model_name": "LayoutModel",
            "justify_items": null,
            "grid_row": null,
            "max_height": null,
            "align_content": null,
            "visibility": null,
            "align_self": null,
            "height": null,
            "min_height": null,
            "padding": null,
            "grid_auto_rows": null,
            "grid_gap": null,
            "max_width": null,
            "order": null,
            "_view_module_version": "1.2.0",
            "grid_template_areas": null,
            "object_position": null,
            "object_fit": null,
            "grid_auto_columns": null,
            "margin": null,
            "display": null,
            "left": null
          }
        },
        "f00d4c23fc3c4b4f94edce469bba5592": {
          "model_module": "@jupyter-widgets/base",
          "model_name": "LayoutModel",
          "model_module_version": "1.2.0",
          "state": {
            "_view_name": "LayoutView",
            "grid_template_rows": null,
            "right": null,
            "justify_content": null,
            "_view_module": "@jupyter-widgets/base",
            "overflow": null,
            "_model_module_version": "1.2.0",
            "_view_count": null,
            "flex_flow": null,
            "width": null,
            "min_width": null,
            "border": null,
            "align_items": null,
            "bottom": null,
            "_model_module": "@jupyter-widgets/base",
            "top": null,
            "grid_column": null,
            "overflow_y": null,
            "overflow_x": null,
            "grid_auto_flow": null,
            "grid_area": null,
            "grid_template_columns": null,
            "flex": null,
            "_model_name": "LayoutModel",
            "justify_items": null,
            "grid_row": null,
            "max_height": null,
            "align_content": null,
            "visibility": null,
            "align_self": null,
            "height": null,
            "min_height": null,
            "padding": null,
            "grid_auto_rows": null,
            "grid_gap": null,
            "max_width": null,
            "order": null,
            "_view_module_version": "1.2.0",
            "grid_template_areas": null,
            "object_position": null,
            "object_fit": null,
            "grid_auto_columns": null,
            "margin": null,
            "display": null,
            "left": null
          }
        }
      }
    }
  },
  "cells": [
    {
      "cell_type": "markdown",
      "metadata": {
        "id": "view-in-github",
        "colab_type": "text"
      },
      "source": [
        "<a href=\"https://colab.research.google.com/github/shl198/Projects/blob/master/bear_app.ipynb\" target=\"_parent\"><img src=\"https://colab.research.google.com/assets/colab-badge.svg\" alt=\"Open In Colab\"/></a>"
      ]
    },
    {
      "cell_type": "code",
      "source": [
        "from fastai.vision.all import *\n",
        "from fastai.vision.widgets import *"
      ],
      "metadata": {
        "id": "D6Egiv0yqwJV"
      },
      "execution_count": null,
      "outputs": []
    },
    {
      "cell_type": "code",
      "execution_count": null,
      "metadata": {
        "id": "1AtCqJlXp4RC"
      },
      "outputs": [],
      "source": [
        "!pip install voila\n",
        "!jupyter serverextension enable --sys-prefix voila "
      ]
    },
    {
      "cell_type": "code",
      "source": [
        "path = 'drive/MyDrive/Colab Notebooks/Data/nb2/bears'\n",
        "dest = 'drive/MyDrive/Colab Notebooks/Data/nb2/grizzly.jpg'"
      ],
      "metadata": {
        "id": "USsEQRSVs5br"
      },
      "execution_count": null,
      "outputs": []
    },
    {
      "cell_type": "code",
      "source": [
        "learn_inf = load_learner(f'{path}/export.pkl',cpu=True)"
      ],
      "metadata": {
        "id": "IoauBYUnvBnV"
      },
      "execution_count": null,
      "outputs": []
    },
    {
      "cell_type": "code",
      "source": [
        "btn_upload = widgets.FileUpload()\n",
        "out_pl = widgets.Output()\n",
        "lbl_pred = widgets.Label()\n",
        "btn_run = widgets.Button(description='Classify')"
      ],
      "metadata": {
        "id": "sY2nGDNdqAiP"
      },
      "execution_count": null,
      "outputs": []
    },
    {
      "cell_type": "code",
      "source": [
        "def on_click_classify(change):\n",
        "    img = PILImage.create(btn_upload.data[-1])\n",
        "    out_pl.clear_output()\n",
        "    with out_pl: display(img.to_thumb(128,128))\n",
        "    pred,pred_idx,probs = learn_inf.predict(img)\n",
        "    lbl_pred.value = f'Prediction: {pred}; Probability: {probs[pred_idx]:.04f}'\n",
        "btn_run.on_click(on_click_classify)"
      ],
      "metadata": {
        "id": "PPYTZnf1qVdO"
      },
      "execution_count": null,
      "outputs": []
    },
    {
      "cell_type": "code",
      "source": [
        "VBox([widgets.Label('Select your bear!'), \n",
        "      btn_upload, btn_run, out_pl, lbl_pred])"
      ],
      "metadata": {
        "colab": {
          "base_uri": "https://localhost:8080/",
          "height": 273,
          "referenced_widgets": [
            "7cbe9e8c46874324acf48279db80dfbc",
            "69f4be6721884bbda8bc6fff0598e6bc",
            "d81551c1623a4aea86c99878a907a4d1",
            "b9497658700b49009592a6e016fa991e",
            "0d52d9cafabf43ed99eda05eed02ff4c",
            "75e479162f084330876004aff1118e0a",
            "b59c383146d742cba35bf48bfffadd94",
            "d2d98ffcdd9940408fce3bf3a85edbb4",
            "21b43d68fb844eccbcf7437dbe0ca27d",
            "7941ac90c859428a8f080c95061e2a73",
            "047d6312b99844c99318b02b3f7d84f6",
            "12a634f21249413192b397d069a58cb2",
            "d4b660b74d914bd083e515b627c694a4",
            "aafffbe59f964155bdf394f1d7bf7573",
            "a32844d9ae004f7c8f3c59ac30da6f71",
            "f00d4c23fc3c4b4f94edce469bba5592"
          ]
        },
        "id": "L7da-HiuwfIE",
        "outputId": "c28fbd9c-c52a-4894-d0f1-f189f571d45d"
      },
      "execution_count": null,
      "outputs": [
        {
          "output_type": "display_data",
          "data": {
            "application/vnd.jupyter.widget-view+json": {
              "model_id": "7cbe9e8c46874324acf48279db80dfbc",
              "version_minor": 0,
              "version_major": 2
            },
            "text/plain": [
              "VBox(children=(Label(value='Select your bear!'), FileUpload(value={}, description='Upload'), Button(descriptio…"
            ]
          },
          "metadata": {}
        },
        {
          "output_type": "display_data",
          "data": {
            "text/html": [
              ""
            ],
            "text/plain": [
              "<IPython.core.display.HTML object>"
            ]
          },
          "metadata": {}
        }
      ]
    },
    {
      "cell_type": "code",
      "source": [
        ""
      ],
      "metadata": {
        "id": "IM7ENt_gwjds"
      },
      "execution_count": null,
      "outputs": []
    }
  ]
}